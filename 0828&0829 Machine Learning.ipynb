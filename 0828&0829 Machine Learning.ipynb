{
 "cells": [
  {
   "cell_type": "code",
   "execution_count": 1,
   "id": "69c1b6c2",
   "metadata": {},
   "outputs": [],
   "source": [
    "# 공통 코드\n",
    "\n",
    "# 파이썬\n",
    "# ≥3.5 필수\n",
    "import sys\n",
    "assert sys.version_info >= (3, 5)\n",
    "\n",
    "# 공통 모듈 임포트\n",
    "import numpy as np\n",
    "import pandas as pd\n",
    "import os\n",
    "\n",
    "# 깔끔한 그래프 출력을 위해 %matplotlib inline\n",
    "import matplotlib as mpl\n",
    "import matplotlib.pyplot as plt\n",
    "\n",
    "mpl.rc('axes', labelsize=14)\n",
    "mpl.rc('xtick', labelsize=12)\n",
    "mpl.rc('ytick', labelsize=12)\n",
    "\n",
    "\n",
    "# 그림을 저장할 위치\n",
    "PROJECT_ROOT_DIR = \".\"\n",
    "CHAPTER_ID = \"classification\"\n",
    "IMAGES_PATH = os.path.join(PROJECT_ROOT_DIR, \"images\", CHAPTER_ID)\n",
    "# 이미지를 저장할 디렉토리 생성\n",
    "os.makedirs(IMAGES_PATH, exist_ok=True)\n",
    "\n",
    "# 이미지 저장\n",
    "def save_fig(fig_id, tight_layout=True, fig_extension=\"png\", resolution=300):\n",
    "    path = os.path.join(IMAGES_PATH, fig_id + \".\" + fig_extension)\n",
    "    print(\"그림 저장:\", fig_id)\n",
    "    if tight_layout:\n",
    "        plt.tight_layout()\n",
    "    plt.savefig(path, format=fig_extension, dpi=resolution)\n",
    "\n",
    "from matplotlib import font_manager, rc\n",
    "import platform\n",
    "\n",
    "path = \"c:/Windows/Fonts/malgun.ttf\"\n",
    "if platform.system() == 'Darwin':\n",
    "    rc('font', family='AppleGothic')\n",
    "elif platform.system() == 'Windows':\n",
    "    font_name = font_manager.FontProperties(fname=path).get_name()\n",
    "    rc('font', family=font_name)\n",
    "    \n",
    "    \n",
    "mpl.rcParams['axes.unicode_minus'] = False\n",
    "# Jupyter Notebook의 출력을 소수점 이하 3자리로 제한\n",
    "%precision 3\n",
    "\n",
    "# 그래픽 출력을 좀 더 고급화하기 위한 라이브러리\n",
    "import seaborn as sns\n",
    "\n",
    "# 과학 기술 통계 라이브러리\n",
    "import scipy as sp\n",
    "from scipy import stats\n",
    "\n",
    "# 사이킷런 ≥0.20 필수\n",
    "# 0.20 이상 버전에서 데이터 변환을 위한 Transformer 클래스가 추가됨\n",
    "import sklearn\n",
    "assert sklearn.__version__ >= \"0.20\"\n",
    "\n",
    "# 노트북 실행 결과를 동일하게 유지하기 위해 시드 고정\n",
    "# 데이터를 분할할 때 동일한 분할을 만들어 냄\n",
    "np.random.seed(21)\n",
    "\n"
   ]
  },
  {
   "cell_type": "code",
   "execution_count": null,
   "id": "61a59e2e",
   "metadata": {},
   "outputs": [],
   "source": []
  },
  {
   "cell_type": "markdown",
   "id": "d9683717",
   "metadata": {},
   "source": [
    "## 분류 - Classification"
   ]
  },
  {
   "cell_type": "markdown",
   "id": "4d3b1e92",
   "metadata": {},
   "source": [
    "### MNIST 데이터 - 손으로 쓴 숫자 이미지"
   ]
  },
  {
   "cell_type": "code",
   "execution_count": 3,
   "id": "34b527b7",
   "metadata": {},
   "outputs": [
    {
     "name": "stderr",
     "output_type": "stream",
     "text": [
      "C:\\Users\\USER\\anaconda3\\lib\\site-packages\\sklearn\\datasets\\_openml.py:932: FutureWarning: The default value of `parser` will change from `'liac-arff'` to `'auto'` in 1.4. You can set `parser='auto'` to silence this warning. Therefore, an `ImportError` will be raised from 1.4 if the dataset is dense and pandas is not installed. Note that the pandas parser may return different data types. See the Notes Section in fetch_openml's API doc for details.\n",
      "  warn(\n"
     ]
    }
   ],
   "source": [
    "# 데이터 다운로드\n",
    "# dict 형태로 데이터를 다운로드\n",
    "from sklearn.datasets import fetch_openml\n",
    "mnist = fetch_openml('mnist_784', version = 1, as_frame = False)\n"
   ]
  },
  {
   "cell_type": "code",
   "execution_count": 4,
   "id": "b354e5f2",
   "metadata": {},
   "outputs": [
    {
     "name": "stdout",
     "output_type": "stream",
     "text": [
      "dict_keys(['data', 'target', 'frame', 'categories', 'feature_names', 'target_names', 'DESCR', 'details', 'url'])\n"
     ]
    }
   ],
   "source": [
    "# 데이터 확인\n",
    "print(mnist.keys())"
   ]
  },
  {
   "cell_type": "code",
   "execution_count": 5,
   "id": "d8112dc5",
   "metadata": {},
   "outputs": [
    {
     "name": "stdout",
     "output_type": "stream",
     "text": [
      "(70000, 784)\n",
      "(70000,)\n"
     ]
    }
   ],
   "source": [
    "# feature 와 target 가져와서 분류\n",
    "# feature 는 주로 X, target 은 주로 y 로 표현\n",
    "\n",
    "X, y = mnist['data'], mnist['target']\n",
    "# 둘 다 크기가 7만으로 동일\n",
    "# 데이터는 784 픽셀 크기인 흑백 이미지로 크기는 28x28\n",
    "# 각 픽셀은 0 ~ 255 사이의 값\n",
    "print(X.shape) # (70000, 784)\n",
    "print(y.shape) # (70000,)"
   ]
  },
  {
   "cell_type": "code",
   "execution_count": 6,
   "id": "f2d62f37",
   "metadata": {},
   "outputs": [
    {
     "data": {
      "image/png": "[encoded data removed]",
      "text/plain": [
       "<Figure size 640x480 with 1 Axes>"
      ]
     },
     "metadata": {},
     "output_type": "display_data"
    }
   ],
   "source": [
    "# 하나의 이미지 출력해서 확인\n",
    "\n",
    "# 이미지 하나 가져오기 - 784 픽셀\n",
    "one_digit_image = X[60000]\n",
    "# 784x1 을 2차원인 28x28 로 변환\n",
    "one_digit_image = one_digit_image.reshape(28, 28)\n",
    "\n",
    "# 이미지 출력\n",
    "plt.imshow(one_digit_image, cmap = mpl.cm.binary)\n",
    "plt.axis('off')\n",
    "plt.show()"
   ]
  },
  {
   "cell_type": "code",
   "execution_count": 7,
   "id": "99538918",
   "metadata": {},
   "outputs": [
    {
     "name": "stdout",
     "output_type": "stream",
     "text": [
      "7\n"
     ]
    }
   ],
   "source": [
    "# 출력해서 확인한 이미지의 레이블 확인\n",
    "print(y[60000]) # 7"
   ]
  },
  {
   "cell_type": "code",
   "execution_count": 8,
   "id": "25a753d0",
   "metadata": {},
   "outputs": [],
   "source": [
    "# 여러 개의 이미지를 출력하기 위한 함수\n",
    "# 첫번째는 이미지들, 두번째는 하나의 행에 출력할 이미지의 수\n",
    "# 세번째 매개변수는 옵션으로 dict 를 설정 - ** 사용\n",
    "# 여러 옵션을 설정하는 경우 각각을 나열하는 것은 가독성을 떨어뜨림\n",
    "# 이런 경우에 매개변수를 하나로 묶어야 하는데 dict 나 class 를 사용\n",
    "# 생략이 가능한 옵션을 많이 가지고 있으면 dict 가 낫고 그렇지 않으면 class\n",
    "\n",
    "def show_images(instances, images_per_row = 10, **options):\n",
    "    # 이미지의 크기를 변수로 생성\n",
    "    size = 28\n",
    "    images_per_rows = min(len(instances), images_per_row)\n",
    "    \n",
    "    # 이미지의 크기 변환\n",
    "    images = [image.reshape(size, size) for image in instances]\n",
    "    \n",
    "    # 행의 갯수 출력\n",
    "    n_rows = (len(instances) -1) // images_per_row + 1\n",
    "    \n",
    "    # 이미지를 저장할 리스트\n",
    "    image_list = []\n",
    "    n_empty = n_rows * images_per_row - len(instances)\n",
    "    \n",
    "    images.append(np.zeros((size * size * n_empty)))\n",
    "    \n",
    "    # 행 단위로 순회하면서 실제 이미지 추가\n",
    "    for row in range(n_rows):\n",
    "        real_images = images[row * images_per_row : (row+1) * images_per_row]\n",
    "        image_list.append(np.concatenate(real_images, axis = 1))\n",
    "        \n",
    "    image = np.concatenate(image_list, axis = 0)\n",
    "    plt.imshow(image, cmap = mpl.cm.binary, **options)\n",
    "    plt.axis('off')\n",
    "    plt.show()\n",
    "    "
   ]
  },
  {
   "cell_type": "code",
   "execution_count": 9,
   "id": "bbed1eec",
   "metadata": {},
   "outputs": [
    {
     "data": {
      "image/png": "[encoded data removed]",
      "text/plain": [
       "<Figure size 800x800 with 1 Axes>"
      ]
     },
     "metadata": {},
     "output_type": "display_data"
    }
   ],
   "source": [
    "# 여러 개의 이미지 출력하는 함수 확인\n",
    "plt.figure(figsize = (8, 8))\n",
    "ex_images = X[:100]\n",
    "show_images(ex_images, images_per_row = 5)\n"
   ]
  },
  {
   "cell_type": "code",
   "execution_count": 10,
   "id": "34119451",
   "metadata": {},
   "outputs": [
    {
     "name": "stdout",
     "output_type": "stream",
     "text": [
      "<class 'numpy.ndarray'>\n",
      "<class 'str'>\n",
      "5\n",
      "<class 'numpy.uint8'>\n"
     ]
    }
   ],
   "source": [
    "# target 의 자료형 확인\n",
    "print(type(y)) # numpy.ndarray\n",
    "print(type(y[0])) # str\n",
    "print(y[0]) # str\n",
    "# 범주형 데이터의 자료형은 정수형을 권장함\n",
    "\n",
    "# target 의 자료형을 변경\n",
    "y = y.astype(np.uint8)\n",
    "print(type(y[0])) # numpy.uint8"
   ]
  },
  {
   "cell_type": "markdown",
   "id": "233419bc",
   "metadata": {},
   "source": [
    "### 이진 분류를 위한 데이터 생성"
   ]
  },
  {
   "cell_type": "code",
   "execution_count": 11,
   "id": "ce5ffa3f",
   "metadata": {},
   "outputs": [
    {
     "name": "stdout",
     "output_type": "stream",
     "text": [
      "8\n",
      "True\n"
     ]
    }
   ],
   "source": [
    "# 훈련 데이터와 테스트 데이터 분리\n",
    "# 데이터 셋이 만들어질 때 순서가 랜덤하게 변해있으므로\n",
    "# 이전의 과정처럼 랜덤하게 데이터를 가져올 필요가 없음\n",
    "X_train, X_test, y_train, y_test = X[:60000], X[60000:], y[:60000], y[60000:]\n",
    "\n",
    "# 이진 분류는 True 와 False 로 분류함\n",
    "# 이진 분류의 경우 target 이 bool 타입\n",
    "# 8인지 아닌지로 분류하기 위한 데이터 생성\n",
    "y_train_8 = (y_train == 8)\n",
    "y_test_8 = (y_test == 8)\n",
    "print(y_train[17]) # 8\n",
    "print(y_train_8[17]) # True\n"
   ]
  },
  {
   "cell_type": "markdown",
   "id": "407aa905",
   "metadata": {},
   "source": [
    "## SGDClassifier 클래스를 이용한 분류"
   ]
  },
  {
   "cell_type": "markdown",
   "id": "6b40f720",
   "metadata": {},
   "source": [
    "### 훈련 및 데이터 예측"
   ]
  },
  {
   "cell_type": "code",
   "execution_count": 12,
   "id": "aacdcf9d",
   "metadata": {},
   "outputs": [
    {
     "data": {
      "text/plain": [
       "array([False])"
      ]
     },
     "execution_count": 12,
     "metadata": {},
     "output_type": "execute_result"
    }
   ],
   "source": [
    "from sklearn.linear_model import SGDClassifier\n",
    "\n",
    "one_digit_image = X[60000]\n",
    "\n",
    "# 훈련에 사용할 모델을 생성 - 하이퍼 파라미터 설정\n",
    "# max_iter 는 최대 반복 횟수, tol 은 정밀도\n",
    "sgd = SGDClassifier(max_iter = 1000, tol = 1e-3, random_state = 21)\n",
    "\n",
    "# 훈련 - 훈련 단계에서 데이터를 대입\n",
    "sgd.fit(X_train, y_train_8)\n",
    "\n",
    "# 예측 - feature 는 2차원 이상의 배열이어야 함\n",
    "# 7에 대한 이미지이므로 결과는 False\n",
    "sgd.predict([one_digit_image]) # array([False])"
   ]
  },
  {
   "cell_type": "markdown",
   "id": "cb2f3a31",
   "metadata": {},
   "source": [
    "### K 겹 교차 검증을 통한 정확도 확인"
   ]
  },
  {
   "cell_type": "code",
   "execution_count": 13,
   "id": "3fd9e4e5",
   "metadata": {},
   "outputs": [
    {
     "data": {
      "text/plain": [
       "array([0.918, 0.908, 0.935, 0.929, 0.892])"
      ]
     },
     "execution_count": 13,
     "metadata": {},
     "output_type": "execute_result"
    }
   ],
   "source": [
    "from sklearn.model_selection import cross_val_score\n",
    "\n",
    "# cv 는 교차 검증 횟수\n",
    "# scoring 은 평가 지표로 정확도\n",
    "cross_val_score(sgd, X_train, y_train_8, cv = 5, scoring = 'accuracy')"
   ]
  },
  {
   "cell_type": "code",
   "execution_count": 14,
   "id": "59813e1b",
   "metadata": {},
   "outputs": [
    {
     "data": {
      "text/plain": [
       "array([0.101, 0.098, 0.096, 0.1  , 0.1  ])"
      ]
     },
     "execution_count": 14,
     "metadata": {},
     "output_type": "execute_result"
    }
   ],
   "source": [
    "# 새로운 분류기를 가지고 훈련을 한 뒤 교차 검증\n",
    "from sklearn.base import BaseEstimator\n",
    "\n",
    "class Never8Classifier(BaseEstimator):\n",
    "    def fit(selt, X, y=None):\n",
    "        pass\n",
    "    def predict(self, X):\n",
    "        return np.zeros((len(X), 1), dtype = bool)\n",
    "    \n",
    "never_8_clf = Never8Classifier()\n",
    "cross_val_score(never_8_clf, X_train, y_train, cv = 5, scoring = 'accuracy')\n",
    "# array([0.101, 0.098, 0.096, 0.1  , 0.1  ])\n",
    "\n",
    "# SGC 방식과 비교했을 때 SGD 가 훨씬 높은 정확도를 보임"
   ]
  },
  {
   "cell_type": "markdown",
   "id": "de9b7a19",
   "metadata": {},
   "source": [
    "## 분류의 평가 지표"
   ]
  },
  {
   "cell_type": "markdown",
   "id": "86a3a62f",
   "metadata": {},
   "source": [
    "### 오차 행렬 - Confusion Matrix"
   ]
  },
  {
   "cell_type": "code",
   "execution_count": 15,
   "id": "6f987743",
   "metadata": {},
   "outputs": [
    {
     "data": {
      "text/plain": [
       "array([[50874,  3275],\n",
       "       [ 1737,  4114]], dtype=int64)"
      ]
     },
     "execution_count": 15,
     "metadata": {},
     "output_type": "execute_result"
    }
   ],
   "source": [
    "from sklearn.model_selection import cross_val_predict\n",
    "from sklearn.metrics import confusion_matrix\n",
    "\n",
    "# SGD 모델을 가지고 훈련을 한 후 값을 예측\n",
    "y_train_predict = cross_val_predict(sgd, X_train, y_train_8, cv = 5)\n",
    "# 오차 행렬을 출력\n",
    "confusion_matrix(y_train_8, y_train_predict)\n",
    "\n",
    "# 훈련을 하고 값을 예측할 때 y_train_8 과 같은 True, False 가 아니라\n",
    "# y_train 과 같은 데이터를 사용하면 0 ~ 9 에 대해 각각을 나타내는\n",
    "# 10x10 크기의 표를 결과로 나타낼 수 있음"
   ]
  },
  {
   "cell_type": "code",
   "execution_count": 16,
   "id": "c03d2c80",
   "metadata": {},
   "outputs": [
    {
     "data": {
      "text/plain": [
       "array([[51503,  2646],\n",
       "       [ 2648,  3203]], dtype=int64)"
      ]
     },
     "execution_count": 16,
     "metadata": {},
     "output_type": "execute_result"
    }
   ],
   "source": [
    "y_train_predict = cross_val_predict(sgd, X_train, y_train_8, cv = 3)\n",
    "# 오차 행렬을 출력\n",
    "confusion_matrix(y_train_8, y_train_predict)"
   ]
  },
  {
   "cell_type": "code",
   "execution_count": 17,
   "id": "4005df33",
   "metadata": {},
   "outputs": [
    {
     "name": "stdout",
     "output_type": "stream",
     "text": [
      "정확도 ;  0.9117666666666666\n",
      "정밀도 ;  0.5476149769191315\n",
      "재현율 ;  0.5474277901213468\n",
      "F1 score ;  0.5475213675213675\n"
     ]
    }
   ],
   "source": [
    "# 평가 지표를 계산하는 다양한 방법\n",
    "\n",
    "# 정확도, 정밀도, 재현율, F1 score\n",
    "from sklearn.metrics import accuracy_score ,precision_score ,recall_score ,f1_score\n",
    "\n",
    "print('정확도 ; ', accuracy_score(y_train_8, y_train_predict))\n",
    "print('정밀도 ; ', precision_score(y_train_8, y_train_predict))\n",
    "print('재현율 ; ', recall_score(y_train_8, y_train_predict))\n",
    "print('F1 score ; ', f1_score(y_train_8, y_train_predict))\n"
   ]
  },
  {
   "cell_type": "code",
   "execution_count": 18,
   "id": "7c587b2d",
   "metadata": {},
   "outputs": [
    {
     "name": "stdout",
     "output_type": "stream",
     "text": [
      "[-5215.269]\n",
      "[1152.549]\n",
      "[-30574.551 -28435.251 -34859.664 ...  -6429.071 -24397.557   3539.487]\n"
     ]
    }
   ],
   "source": [
    "# 결정 임계값 나타내기\n",
    "\n",
    "# 자신의 점수를 출력\n",
    "y_score1 = sgd.decision_function([one_digit_image]) # 7\n",
    "y_score2 = sgd.decision_function([X[17]]) # 8\n",
    "# default 임계값은 0이므로\n",
    "# 0보다 작은 점수는 False, 높은 점수는 True 로 판별\n",
    "print(y_score1) # -5215\n",
    "print(y_score2) # 1152\n",
    "\n",
    "# 전체 훈련 데이터의 점수를 출력\n",
    "y_scores = cross_val_predict(sgd, X_train, y_train_8,\n",
    "                            cv = 3, method = 'decision_function')\n",
    "print(y_scores)"
   ]
  },
  {
   "cell_type": "code",
   "execution_count": 19,
   "id": "d607c1f2",
   "metadata": {},
   "outputs": [
    {
     "data": {
      "image/png": "[encoded data removed]",
      "text/plain": [
       "<Figure size 800x600 with 1 Axes>"
      ]
     },
     "metadata": {},
     "output_type": "display_data"
    }
   ],
   "source": [
    "# 정밀도와 재현율의 tradeoff\n",
    "# 정밀도와 재현율에 대한 그래프 출력\n",
    "\n",
    "from sklearn.metrics import precision_recall_curve\n",
    "\n",
    "# 정밀도, 재현율, 임계값 에 대한 데이터를 추출\n",
    "precisions, recalls, thresholds = precision_recall_curve(y_train_8, y_scores)\n",
    "\n",
    "# 정밀도와 재현율 그래프를 그리는 함수\n",
    "def plot_precision_recall(precisions, recalls, thresholds):\n",
    "    # 선 그리기\n",
    "    plt.plot(thresholds, precisions[:-1], 'b--', \n",
    "            label = 'Precision score', linewidth = 2)\n",
    "    plt.plot(thresholds, recalls[:-1], 'r--', \n",
    "            label = 'Recall score', linewidth = 2)\n",
    "    # 범례 표시\n",
    "    plt.legend(loc = 'center left', fontsize = 12)\n",
    "    \n",
    "    plt.xlabel('Thresholds', fontsize = 12)\n",
    "    plt.grid(True)\n",
    "    plt.axis([-40000, 20000, 0, 1])\n",
    "    \n",
    "plt.figure(figsize = (8, 6))\n",
    "plot_precision_recall(precisions, recalls, thresholds)\n",
    "    \n",
    "\n",
    "# 정밀도가 0.9가 되는 위치의 재현율을 조회\n",
    "recall_90_precision = recalls[np.argmax(precisions >= 0.9)]\n",
    "threshold_90_precision = thresholds[np.argmax(precisions >= 0.9)]\n",
    "\n",
    "# 위치를 표시\n",
    "plt.plot([threshold_90_precision, threshold_90_precision], [0, 0.9], 'g')\n",
    "plt.plot([-40000, threshold_90_precision], [0.9, 0.9], 'r')\n",
    "plt.plot([-40000, threshold_90_precision], \n",
    "         [recall_90_precision, recall_90_precision], 'r')\n",
    "plt.plot([threshold_90_precision], [0.9], 'ro')\n",
    "plt.plot([threshold_90_precision], [recall_90_precision], 'ro')\n",
    "\n",
    "\n",
    "plt.show()"
   ]
  },
  {
   "cell_type": "code",
   "execution_count": 20,
   "id": "7080c2d8",
   "metadata": {},
   "outputs": [
    {
     "name": "stdout",
     "output_type": "stream",
     "text": [
      "0.9003344481605351\n",
      "0.23004614595795592\n"
     ]
    }
   ],
   "source": [
    "# 정밀도가 0.9가 되는 지점을 이용해서 예측\n",
    "# 정밀도가 0.9가 되는 위치의 threshold 를 찾고 그것을 기준으로 사용\n",
    "\n",
    "y_train_predict_90 = (y_scores >= threshold_90_precision)\n",
    "\n",
    "# 정밀도-  0.90\n",
    "print(precision_score(y_train_8, y_train_predict_90)) \n",
    "# 재현율 - 0.23\n",
    "print(recall_score(y_train_8, y_train_predict_90)) "
   ]
  },
  {
   "cell_type": "markdown",
   "id": "7897b3ad",
   "metadata": {},
   "source": [
    "### ROC 곡선"
   ]
  },
  {
   "cell_type": "code",
   "execution_count": 21,
   "id": "777e5b63",
   "metadata": {},
   "outputs": [
    {
     "data": {
      "image/png": "[encoded data removed]",
      "text/plain": [
       "<Figure size 800x600 with 1 Axes>"
      ]
     },
     "metadata": {},
     "output_type": "display_data"
    }
   ],
   "source": [
    "from sklearn.metrics import roc_curve\n",
    "\n",
    "# 그래프에 사용할 값 계산\n",
    "fpr, tpr, thresholds = roc_curve(y_train_8, y_scores)\n",
    "\n",
    "# 그래프 출력 함수\n",
    "def plot_roc_curve(fpr, tpr, label = None):\n",
    "    # 선 그리기\n",
    "    plt.plot(fpr, tpr, 'b', linewidth = 2, label = label) # ROC 곡선\n",
    "    plt.plot([0, 1], [0, 1], 'r--') # 대각선 - 완전 랜덤인 경우\n",
    "    # 좌표 볌위 설정\n",
    "    plt.axis([0, 1, 0, 1])\n",
    "    # 축 이름 표시\n",
    "    plt.xlabel('False Positive Rate (Fall-Out)', fontsize = 16)\n",
    "    plt.ylabel('Ture Positive Rate (Recall)', fontsize = 16)\n",
    "    plt.grid(True)\n",
    "\n",
    "plt.figure(figsize = (8, 6))\n",
    "plot_roc_curve(fpr, tpr, thresholds)\n",
    "plt.show()\n",
    "\n",
    "# 그래프의 점선이 완전 랜덤 분류기\n",
    "# 점선으로부터 멀어지면 멀어질수록 좋은 분류기\n",
    "# 가장 좋은 분류기는 그래프(분류기) 하단의 면적이 1인 그래프\n",
    "# 변적의 값은 roc_auc_score 라는 함수로 계산이 가능함"
   ]
  },
  {
   "cell_type": "code",
   "execution_count": 22,
   "id": "c60b2c21",
   "metadata": {},
   "outputs": [
    {
     "name": "stdout",
     "output_type": "stream",
     "text": [
      "0.8542515125165044\n"
     ]
    }
   ],
   "source": [
    "# ROC 곡선의 면적 확인하기\n",
    "# 면적이 1에 가까울수록 좋은 분류기\n",
    "\n",
    "from sklearn.metrics import roc_auc_score\n",
    "\n",
    "print(roc_auc_score(y_train_8, y_scores)) # 0.8542"
   ]
  },
  {
   "cell_type": "markdown",
   "id": "40636f61",
   "metadata": {},
   "source": [
    "## 다중 분류"
   ]
  },
  {
   "cell_type": "markdown",
   "id": "7d896cb0",
   "metadata": {},
   "source": [
    "### 이진 분류기를 이용한 다중 분류"
   ]
  },
  {
   "cell_type": "code",
   "execution_count": 23,
   "id": "b346986d",
   "metadata": {},
   "outputs": [
    {
     "name": "stdout",
     "output_type": "stream",
     "text": [
      "[7]\n",
      "[[ 3.937  8.193  4.986  1.872  7.111  0.86   2.885  9.197 -0.184  6.016]]\n"
     ]
    }
   ],
   "source": [
    "from sklearn.svm import SVC\n",
    "\n",
    "# 이진 분류기 SVC\n",
    "svm_clf = SVC(gamma = 'auto', random_state = 21)\n",
    "# 이진 분류기를 이용해서 0 ~ 9 까지 10가지를 분류\n",
    "# 학습\n",
    "svm_clf.fit(X_train[:1000], y_train[:1000])\n",
    "\n",
    "print(svm_clf.predict([one_digit_image])) # 7\n",
    "\n",
    "# 결정 점수를 확인 - 10개 점수 중 7에 대한 결정 점수가 가장 높음\n",
    "digit_scores = svm_clf.decision_function([one_digit_image])\n",
    "print(digit_scores)\n"
   ]
  },
  {
   "cell_type": "markdown",
   "id": "9a25e980",
   "metadata": {},
   "source": [
    "### SGD 분류기를 이용한 다중 분류"
   ]
  },
  {
   "cell_type": "code",
   "execution_count": 24,
   "id": "6c504d8a",
   "metadata": {},
   "outputs": [
    {
     "name": "stdout",
     "output_type": "stream",
     "text": [
      "[7]\n",
      "[[-24068.136 -47985.984  -9597.819  -4298.995 -19424.024  -5481.485\n",
      "  -31244.931  11684.673  -7032.156  -5727.669]]\n"
     ]
    }
   ],
   "source": [
    "sgd.fit(X_train, y_train)\n",
    "\n",
    "# 예측\n",
    "print(sgd.predict([one_digit_image])) # 7\n",
    "\n",
    "# 결정 점수 확인 - 7 의 점수가 가장 높음\n",
    "print(sgd.decision_function([one_digit_image]))\n"
   ]
  },
  {
   "cell_type": "code",
   "execution_count": 25,
   "id": "6f40125b",
   "metadata": {},
   "outputs": [
    {
     "data": {
      "text/plain": [
       "array([0.885, 0.848, 0.874])"
      ]
     },
     "execution_count": 25,
     "metadata": {},
     "output_type": "execute_result"
    }
   ],
   "source": [
    "# 교차 검증을 이용한 정확도 확인\n",
    "cross_val_score(sgd, X_train, y_train, cv = 3, scoring = 'accuracy')"
   ]
  },
  {
   "cell_type": "code",
   "execution_count": 26,
   "id": "b27f377c",
   "metadata": {},
   "outputs": [
    {
     "data": {
      "text/plain": [
       "array([0.901, 0.898, 0.902])"
      ]
     },
     "execution_count": 26,
     "metadata": {},
     "output_type": "execute_result"
    }
   ],
   "source": [
    "# 특성이 여러 개이고 이 특성의 값의 분포가 일정하지 않은 경우\n",
    "# scaling 이나 standaldization 을 고려해봐야 함\n",
    "\n",
    "# 28x28 이미지라서 특성이 매우 많음\n",
    "from sklearn.preprocessing import StandardScaler\n",
    "\n",
    "# Scaling 적용\n",
    "scaler = StandardScaler() # 객체 생성\n",
    "X_train_scaled = scaler.fit_transform(X_train.astype(np.float64))\n",
    "# 정확도 확인\n",
    "cross_val_score(sgd, X_train_scaled, y_train, cv = 3, scoring = 'accuracy')\n"
   ]
  },
  {
   "cell_type": "code",
   "execution_count": 27,
   "id": "24e56a40",
   "metadata": {},
   "outputs": [
    {
     "name": "stdout",
     "output_type": "stream",
     "text": [
      "[5 0 4 ... 5 6 8]\n",
      "[False False False ... False False  True]\n",
      "(60000,)\n",
      "(60000,)\n"
     ]
    }
   ],
   "source": [
    "print(y_train)\n",
    "print(y_train_predict)\n",
    "print(y_train.shape)\n",
    "print(y_train_predict.shape)"
   ]
  },
  {
   "cell_type": "code",
   "execution_count": 28,
   "id": "c53e2c27",
   "metadata": {},
   "outputs": [
    {
     "name": "stdout",
     "output_type": "stream",
     "text": [
      "[[5593    0   23    8    9   41   35    6  207    1]\n",
      " [   0 6411   38   25    4   42    4    8  198   12]\n",
      " [  28   28 5264   93   72   27   65   40  331   10]\n",
      " [  23   20  123 5254    2  203   27   42  367   70]\n",
      " [  10   15   49   10 5226   11   37   25  293  166]\n",
      " [  29   17   32  173   54 4444   78   16  515   63]\n",
      " [  30   17   44    2   44   95 5562    3  120    1]\n",
      " [  21   11   53   30   50   10    3 5697  168  222]\n",
      " [  18   65   48   89    4  126   25   10 5419   47]\n",
      " [  25   20   30   68  117   32    1  177  325 5154]]\n"
     ]
    }
   ],
   "source": [
    "# 오차 행렬 출력\n",
    "\n",
    "# scoring 매개변수가 필요 없음\n",
    "y_train_predict = cross_val_predict(sgd, X_train_scaled, \n",
    "                                  y_train, cv = 3)\n",
    "confusion_mat = confusion_matrix(y_train, y_train_predict)\n",
    "print(confusion_mat)"
   ]
  },
  {
   "cell_type": "code",
   "execution_count": 29,
   "id": "93b49daf",
   "metadata": {},
   "outputs": [],
   "source": [
    "#help(confusion_matrix)"
   ]
  },
  {
   "cell_type": "code",
   "execution_count": 30,
   "id": "b1897624",
   "metadata": {},
   "outputs": [
    {
     "data": {
      "image/png": "[encoded data removed]",
      "text/plain": [
       "<Figure size 480x480 with 1 Axes>"
      ]
     },
     "metadata": {},
     "output_type": "display_data"
    }
   ],
   "source": [
    "# 오차 행렬 시각화\n",
    "\n",
    "plt.matshow(confusion_mat, cmap = plt.cm.gray)\n",
    "plt.show()\n",
    "\n",
    "# 오차 행렬의 결과를 확인해서 오류가 많이 발생하는 \n",
    "# 특별한 상황이 있다면 이에 대한 해결책을 제시할 수 있음\n",
    "# 오류가 많이 발생하는 클래스가 있다면 그 클래스의 데이터를 조금 더 넣어서\n",
    "# 모델을 만들거나 결과가 나온 데이터를 가지고 다시 한 번 학습하는\n",
    "# 모델을 만든다던가 하는 방식으로 전처리 작업을 수행"
   ]
  },
  {
   "cell_type": "code",
   "execution_count": 31,
   "id": "ca6aa18e",
   "metadata": {},
   "outputs": [
    {
     "data": {
      "image/png": "[encoded data removed]",
      "text/plain": [
       "<Figure size 480x480 with 1 Axes>"
      ]
     },
     "metadata": {},
     "output_type": "display_data"
    }
   ],
   "source": [
    "# 오차 행렬을 각 행의 합계로 나누고 대각선을 0으로 채워서\n",
    "# 오류를 좀 더 눈에 듸게 출력하기\n",
    "# 분류 모델에서는 이 행렬을 반드시 출력해보는 것이 좋음\n",
    "# 잘못 분류됨 모델을 확인해볼 수 있음\n",
    "\n",
    "# 클래스 별로 합계를 구함\n",
    "row_sums = confusion_mat.sum(axis = 1, keepdims = True)\n",
    "# 클래스 별 합계로 나누기\n",
    "norm_confusion_mat = confusion_mat / row_sums\n",
    "\n",
    "# 주 대각선 방향을 0 으로 채워 넣음\n",
    "np.fill_diagonal(norm_confusion_mat, 0)\n",
    "plt.matshow(norm_confusion_mat, cmap = plt.cm.gray)\n",
    "plt.show()"
   ]
  },
  {
   "cell_type": "markdown",
   "id": "4b53d3b4",
   "metadata": {},
   "source": [
    "## 다중 레이블 분류"
   ]
  },
  {
   "cell_type": "code",
   "execution_count": 32,
   "id": "c1c1d65d",
   "metadata": {},
   "outputs": [
    {
     "data": {
      "text/plain": [
       "array([[ True,  True]])"
      ]
     },
     "execution_count": 32,
     "metadata": {},
     "output_type": "execute_result"
    }
   ],
   "source": [
    "# 출력해야 할 레이블이 여러 개인 경우\n",
    "# 이미지를 가지고 7보다 큰지 그리고 홀수인지 여부를 같이 리턴해야 하는 경우\n",
    "\n",
    "# KNN을 이용한 다중 레이블 분류\n",
    "from sklearn.neighbors import KNeighborsClassifier\n",
    "\n",
    "y_train_large = (y_train >= 7)\n",
    "y_train_odd = (y_train % 2 == 1)\n",
    "\n",
    "# 2개를 가지고 MultiLabel 생성\n",
    "# 데이터를 배열로 제공\n",
    "y_multilabel = np.c_[y_train_large, y_train_odd]\n",
    "\n",
    "knn_clf = KNeighborsClassifier()\n",
    "knn_clf.fit(X_train, y_multilabel)\n",
    "knn_clf.predict([one_digit_image]) # array([[ True,  True]])\n",
    "# 결과로 2개의 데이터를 갖는 배열을 리턴"
   ]
  },
  {
   "cell_type": "markdown",
   "id": "17356ff1",
   "metadata": {},
   "source": [
    "## 분류 알고리즘"
   ]
  },
  {
   "cell_type": "markdown",
   "id": "0026e5e5",
   "metadata": {},
   "source": [
    "### LDA(선형 판별 분석)"
   ]
  },
  {
   "cell_type": "code",
   "execution_count": 33,
   "id": "ea2b7b9f",
   "metadata": {},
   "outputs": [
    {
     "name": "stdout",
     "output_type": "stream",
     "text": [
      "   Unnamed: 0   outcome            purpose_    dti  borrower_score  \\\n",
      "0       32109  paid off  debt_consolidation  21.23            0.40   \n",
      "1       16982   default         credit_card  15.49            0.40   \n",
      "2       25335  paid off  debt_consolidation  27.30            0.70   \n",
      "3       34580  paid off      major_purchase  21.11            0.40   \n",
      "4       14424   default  debt_consolidation  16.46            0.45   \n",
      "\n",
      "   payment_inc_ratio  \n",
      "0            5.11135  \n",
      "1            5.43165  \n",
      "2            9.23003  \n",
      "3            2.33482  \n",
      "4           12.10320  \n",
      "<class 'pandas.core.frame.DataFrame'>\n",
      "RangeIndex: 3000 entries, 0 to 2999\n",
      "Data columns (total 6 columns):\n",
      " #   Column             Non-Null Count  Dtype  \n",
      "---  ------             --------------  -----  \n",
      " 0   Unnamed: 0         3000 non-null   int64  \n",
      " 1   outcome            3000 non-null   object \n",
      " 2   purpose_           3000 non-null   object \n",
      " 3   dti                3000 non-null   float64\n",
      " 4   borrower_score     3000 non-null   float64\n",
      " 5   payment_inc_ratio  3000 non-null   float64\n",
      "dtypes: float64(3), int64(1), object(2)\n",
      "memory usage: 140.8+ KB\n"
     ]
    }
   ],
   "source": [
    "# borrowscore 와 payment_inc_ration 에 따른 outcome 선형 판별 분석\n",
    "\n",
    "# 데이터 가져오기\n",
    "loan3000 = pd.read_csv('./data/loan3000.csv')\n",
    "print(loan3000.head())\n",
    "loan3000.info()"
   ]
  },
  {
   "cell_type": "code",
   "execution_count": 34,
   "id": "fe9c85ad",
   "metadata": {},
   "outputs": [
    {
     "name": "stdout",
     "output_type": "stream",
     "text": [
      "      borrower_score  payment_inc_ratio\n",
      "0               0.40            5.11135\n",
      "1               0.40            5.43165\n",
      "2               0.70            9.23003\n",
      "3               0.40            2.33482\n",
      "4               0.45           12.10320\n",
      "...              ...                ...\n",
      "2995            0.50           18.36620\n",
      "2996            0.60            1.80421\n",
      "2997            0.20           15.42180\n",
      "2998            0.45            8.92335\n",
      "2999            0.40           12.88190\n",
      "\n",
      "[3000 rows x 2 columns] 0       paid off\n",
      "1        default\n",
      "2       paid off\n",
      "3       paid off\n",
      "4        default\n",
      "          ...   \n",
      "2995    paid off\n",
      "2996    paid off\n",
      "2997     default\n",
      "2998     default\n",
      "2999     default\n",
      "Name: outcome, Length: 3000, dtype: category\n",
      "Categories (2, object): ['default', 'paid off']\n"
     ]
    }
   ],
   "source": [
    "# target 을 범주형으로 변환\n",
    "loan3000.outcome = loan3000.outcome.astype('category')\n",
    "\n",
    "# 숫자 컬럼들의 상관 계수 확인\n",
    "#print(loan3000.corr())\n",
    "\n",
    "# 독립 변수와 종속 변수를 설정\n",
    "predictors = ['borrower_score', 'payment_inc_ratio']\n",
    "outcome = 'outcome'\n",
    "\n",
    "# 독립 변수 - feature\n",
    "X = loan3000[predictors]\n",
    "# 종속 변수 - target\n",
    "y = loan3000[outcome]\n",
    "\n",
    "print(X, y)"
   ]
  },
  {
   "cell_type": "code",
   "execution_count": 35,
   "id": "0e3b3177",
   "metadata": {},
   "outputs": [
    {
     "name": "stdout",
     "output_type": "stream",
     "text": [
      "                          0\n",
      "borrower_score     7.175839\n",
      "payment_inc_ratio -0.099676\n"
     ]
    }
   ],
   "source": [
    "# LDA 적용\n",
    "\n",
    "from sklearn.discriminant_analysis import LinearDiscriminantAnalysis\n",
    "\n",
    "# 객체 생성 및 적용\n",
    "loan_lda = LinearDiscriminantAnalysis()\n",
    "loan_lda.fit(X, y)\n",
    "\n",
    "# 최적의 값을 확인 - 'paid off' 와 'default' 의 경계 값\n",
    "print(pd.DataFrame(loan_lda.scalings_, index = X.columns))"
   ]
  },
  {
   "cell_type": "code",
   "execution_count": 36,
   "id": "17a8a5f6",
   "metadata": {},
   "outputs": [
    {
     "name": "stdout",
     "output_type": "stream",
     "text": [
      "    default  paid off\n",
      "0  0.553544  0.446456\n",
      "1  0.558953  0.441047\n",
      "2  0.272696  0.727304\n",
      "3  0.506254  0.493746\n",
      "4  0.609952  0.390048\n"
     ]
    }
   ],
   "source": [
    "# 처음 5개의 데이터에 대해 판별\n",
    "\n",
    "# 각 데이터에 대해 'default' 일 확률과 'paid off' 일 확률을 나타냄\n",
    "# predict_proba 함수는 각 클래스에 대한 확률을 나타냄\n",
    "# loan_lda.classes_ 는 'default' 와 'paid off'\n",
    "pred = pd.DataFrame(loan_lda.predict_proba(loan3000[predictors]),\n",
    "                                           columns = loan_lda.classes_)\n",
    "print(pred.head())"
   ]
  },
  {
   "cell_type": "code",
   "execution_count": 37,
   "id": "1334ad01",
   "metadata": {},
   "outputs": [
    {
     "name": "stdout",
     "output_type": "stream",
     "text": [
      "['default' 'paid off']\n"
     ]
    }
   ],
   "source": [
    "print(loan_lda.classes_)"
   ]
  },
  {
   "cell_type": "markdown",
   "id": "24126021",
   "metadata": {},
   "source": [
    "### KNN 알고리즘을 이용한 분류"
   ]
  },
  {
   "cell_type": "code",
   "execution_count": 38,
   "id": "4e2b469a",
   "metadata": {},
   "outputs": [
    {
     "name": "stdout",
     "output_type": "stream",
     "text": [
      "     payment_inc_ratio    dti\n",
      "1              5.46933  21.33\n",
      "2              6.90294   8.97\n",
      "3             11.14800   1.83\n",
      "4              3.72120  10.81\n",
      "5              1.89923  11.34\n",
      "..                 ...    ...\n",
      "196           11.66300  26.09\n",
      "197            2.97641  16.41\n",
      "198            1.96846  19.98\n",
      "199            9.64200  20.17\n",
      "200            7.03924  13.88\n",
      "\n",
      "[200 rows x 2 columns] 1       default\n",
      "2      paid off\n",
      "3      paid off\n",
      "4       default\n",
      "5      paid off\n",
      "         ...   \n",
      "196     default\n",
      "197     default\n",
      "198     default\n",
      "199    paid off\n",
      "200    paid off\n",
      "Name: outcome, Length: 200, dtype: object\n"
     ]
    }
   ],
   "source": [
    "# loan200.csv 파일의 데이터를 읽어서 \n",
    "# payment_inc_ratio 와 dti 를 이용해서 outcome을 예측\n",
    "# 위와 같은 데이터를 사용하지만 분류에 사용하는 속성만 달라짐\n",
    "\n",
    "from sklearn.neighbors import KNeighborsClassifier\n",
    "\n",
    "loan200 = pd.read_csv('./data/loan200.csv')\n",
    "#print(loan200.head())\n",
    "\n",
    "predictors = [ 'payment_inc_ratio', 'dti']\n",
    "outcome = 'outcome'\n",
    "\n",
    "newloan = loan200.loc[0:0, predictors]\n",
    "X = loan200.loc[1:, predictors]\n",
    "y = loan200.loc[1:, outcome]\n",
    "print(X, y)\n"
   ]
  },
  {
   "cell_type": "code",
   "execution_count": 39,
   "id": "02facd9f",
   "metadata": {},
   "outputs": [
    {
     "name": "stdout",
     "output_type": "stream",
     "text": [
      "['paid off']\n"
     ]
    }
   ],
   "source": [
    "# 판단에 사용할 이웃의 갯수를 설정\n",
    "knn = KNeighborsClassifier(n_neighbors = 20)\n",
    "\n",
    "knn.fit(X, y)\n",
    "# 예측 - 'paid off'\n",
    "print(knn.predict(newloan))"
   ]
  },
  {
   "cell_type": "code",
   "execution_count": 40,
   "id": "a6b39dbd",
   "metadata": {},
   "outputs": [
    {
     "name": "stdout",
     "output_type": "stream",
     "text": [
      "[[0.45 0.55]]\n"
     ]
    }
   ],
   "source": [
    "# 확률을 확인 - [[0.45 0.55]]\n",
    "print(knn.predict_proba(newloan))"
   ]
  },
  {
   "cell_type": "markdown",
   "id": "b1d60266",
   "metadata": {},
   "source": [
    "### 표준화를 수행한 경우와의 차이"
   ]
  },
  {
   "cell_type": "code",
   "execution_count": 41,
   "id": "97169eb0",
   "metadata": {},
   "outputs": [
    {
     "name": "stdout",
     "output_type": "stream",
     "text": [
      "   payment_inc_ratio  dti  revol_bal  revol_util\n",
      "0             2.3932  1.0       1687         9.4\n"
     ]
    }
   ],
   "source": [
    "# 데이터 읽어오기\n",
    "\n",
    "loan_data = pd.read_csv('./data/loan_data.csv.gz')\n",
    "loan_data = loan_data.drop(columns = ['Unnamed: 0', 'status'])\n",
    "loan_data['outcome'] = pd.Categorical(loan_data['outcome'],\n",
    "                                     categories = ['paid off', 'default'],\n",
    "                                     ordered = True)\n",
    "\n",
    "predictors = ['payment_inc_ratio', 'dti', 'revol_bal', 'revol_util']\n",
    "outcome = 'outcome'\n",
    "newloan = loan_data.loc[0:0, predictors]\n",
    "# 데이터 확인\n",
    "print(newloan)"
   ]
  },
  {
   "cell_type": "code",
   "execution_count": 42,
   "id": "228e2af2",
   "metadata": {},
   "outputs": [
    {
     "name": "stdout",
     "output_type": "stream",
     "text": [
      "(array([[1.556, 5.64 , 7.139, 8.842, 8.973]]), array([[35535, 33650, 25862, 42952, 43598]], dtype=int64))\n",
      "       payment_inc_ratio   dti  revol_bal  revol_util\n",
      "35536            1.47212  1.46       1686        10.0\n",
      "33651            3.38178  6.37       1688         8.4\n",
      "25863            2.36303  1.39       1691         3.5\n",
      "42953            1.28160  7.14       1684         3.9\n",
      "43599            4.12244  8.98       1684         7.2\n"
     ]
    }
   ],
   "source": [
    "X = loan_data.loc[1:, predictors]\n",
    "y = loan_data.loc[1:, outcome]\n",
    "\n",
    "# 표준화를 하지 않으면 이웃을 찾을 때 특정 특성이 영향을 많이 미치게 됨\n",
    "knn = KNeighborsClassifier(n_neighbors = 5)\n",
    "# 훈련\n",
    "knn.fit(X, y)\n",
    "\n",
    "# 설정한 5개의 이웃에 대한 정보 출력\n",
    "nbrs = knn.kneighbors(newloan)\n",
    "print(nbrs)\n",
    "print(X.iloc[nbrs[1][0],:])\n",
    "# 'revol_bal' 데이터만 4자리 숫자로 편차의 차이가 크게 나타남\n",
    "# 상대적으로 revol_bal 이 가까운 데이터가 선택되게 됨"
   ]
  },
  {
   "cell_type": "code",
   "execution_count": 43,
   "id": "e1217179",
   "metadata": {},
   "outputs": [
    {
     "name": "stdout",
     "output_type": "stream",
     "text": [
      "       payment_inc_ratio   dti  revol_bal  revol_util\n",
      "2080             2.61091  1.03       1218         9.7\n",
      "1438             2.34343  0.51        278         9.9\n",
      "30215            2.71200  1.34       1075         8.5\n",
      "28542            2.39760  0.74       2917         7.4\n",
      "44737            2.34309  1.37        488         7.2\n"
     ]
    }
   ],
   "source": [
    "# 정규화를 수행한 후 이웃 구하기\n",
    "\n",
    "from sklearn import preprocessing\n",
    "\n",
    "# 정규화 적용 - scaler\n",
    "scaler = preprocessing.StandardScaler()\n",
    "scaler.fit(X * 1.0) # 정수를 실수 데이터로 변환\n",
    "X_std = scaler.transform(X * 1.0)\n",
    "newloan_std = scaler.transform(newloan * 1.0)\n",
    "\n",
    "# knn 다시 적용\n",
    "knn = KNeighborsClassifier(n_neighbors = 5)\n",
    "knn.fit(X_std, y)\n",
    "\n",
    "nbrs = knn.kneighbors(newloan_std)\n",
    "print(X.iloc[nbrs[1][0],:])\n",
    "# 스케일링이 적용되어서 4가지 항목의 값들이 모두 변화\n",
    "# 이전에 비해 revol_bal 을 제외한 나머지 속성들의 거리가 가까워짐\n",
    "# 반대로 revol_bal 속성의 거리는 늘어남"
   ]
  },
  {
   "cell_type": "markdown",
   "id": "867b4720",
   "metadata": {},
   "source": [
    "### Logistic Regrssion - 선형 회귀"
   ]
  },
  {
   "cell_type": "code",
   "execution_count": 44,
   "id": "a9c103a8",
   "metadata": {},
   "outputs": [],
   "source": [
    "# 데이터 가져오기\n",
    "\n",
    "from sklearn import datasets\n",
    "\n",
    "iris = datasets.load_iris()\n",
    "#print(iris.keys())"
   ]
  },
  {
   "cell_type": "code",
   "execution_count": 45,
   "id": "c3fb13f2",
   "metadata": {},
   "outputs": [],
   "source": [
    "# 데이터 생성\n",
    "\n",
    "# feature 생성 - 3번째 이후 속성만\n",
    "# 꽃잎의 너비 속성 1가지에 대해서만 적용\n",
    "X = iris.data[:, 3:]\n",
    "# target - 2(virginica) 인지 여부\n",
    "y = (iris['target'] == 2).astype(np.uint8)\n",
    "\n",
    "#print(X, y)"
   ]
  },
  {
   "cell_type": "code",
   "execution_count": 46,
   "id": "8feee194",
   "metadata": {},
   "outputs": [
    {
     "data": {
      "text/html": [
       "<style>#sk-container-id-1 {color: black;background-color: white;}#sk-container-id-1 pre{padding: 0;}#sk-container-id-1 div.sk-toggleable {background-color: white;}#sk-container-id-1 label.sk-toggleable__label {cursor: pointer;display: block;width: 100%;margin-bottom: 0;padding: 0.3em;box-sizing: border-box;text-align: center;}#sk-container-id-1 label.sk-toggleable__label-arrow:before {content: \"▸\";float: left;margin-right: 0.25em;color: #696969;}#sk-container-id-1 label.sk-toggleable__label-arrow:hover:before {color: black;}#sk-container-id-1 div.sk-estimator:hover label.sk-toggleable__label-arrow:before {color: black;}#sk-container-id-1 div.sk-toggleable__content {max-height: 0;max-width: 0;overflow: hidden;text-align: left;background-color: #f0f8ff;}#sk-container-id-1 div.sk-toggleable__content pre {margin: 0.2em;color: black;border-radius: 0.25em;background-color: #f0f8ff;}#sk-container-id-1 input.sk-toggleable__control:checked~div.sk-toggleable__content {max-height: 200px;max-width: 100%;overflow: auto;}#sk-container-id-1 input.sk-toggleable__control:checked~label.sk-toggleable__label-arrow:before {content: \"▾\";}#sk-container-id-1 div.sk-estimator input.sk-toggleable__control:checked~label.sk-toggleable__label {background-color: #d4ebff;}#sk-container-id-1 div.sk-label input.sk-toggleable__control:checked~label.sk-toggleable__label {background-color: #d4ebff;}#sk-container-id-1 input.sk-hidden--visually {border: 0;clip: rect(1px 1px 1px 1px);clip: rect(1px, 1px, 1px, 1px);height: 1px;margin: -1px;overflow: hidden;padding: 0;position: absolute;width: 1px;}#sk-container-id-1 div.sk-estimator {font-family: monospace;background-color: #f0f8ff;border: 1px dotted black;border-radius: 0.25em;box-sizing: border-box;margin-bottom: 0.5em;}#sk-container-id-1 div.sk-estimator:hover {background-color: #d4ebff;}#sk-container-id-1 div.sk-parallel-item::after {content: \"\";width: 100%;border-bottom: 1px solid gray;flex-grow: 1;}#sk-container-id-1 div.sk-label:hover label.sk-toggleable__label {background-color: #d4ebff;}#sk-container-id-1 div.sk-serial::before {content: \"\";position: absolute;border-left: 1px solid gray;box-sizing: border-box;top: 0;bottom: 0;left: 50%;z-index: 0;}#sk-container-id-1 div.sk-serial {display: flex;flex-direction: column;align-items: center;background-color: white;padding-right: 0.2em;padding-left: 0.2em;position: relative;}#sk-container-id-1 div.sk-item {position: relative;z-index: 1;}#sk-container-id-1 div.sk-parallel {display: flex;align-items: stretch;justify-content: center;background-color: white;position: relative;}#sk-container-id-1 div.sk-item::before, #sk-container-id-1 div.sk-parallel-item::before {content: \"\";position: absolute;border-left: 1px solid gray;box-sizing: border-box;top: 0;bottom: 0;left: 50%;z-index: -1;}#sk-container-id-1 div.sk-parallel-item {display: flex;flex-direction: column;z-index: 1;position: relative;background-color: white;}#sk-container-id-1 div.sk-parallel-item:first-child::after {align-self: flex-end;width: 50%;}#sk-container-id-1 div.sk-parallel-item:last-child::after {align-self: flex-start;width: 50%;}#sk-container-id-1 div.sk-parallel-item:only-child::after {width: 0;}#sk-container-id-1 div.sk-dashed-wrapped {border: 1px dashed gray;margin: 0 0.4em 0.5em 0.4em;box-sizing: border-box;padding-bottom: 0.4em;background-color: white;}#sk-container-id-1 div.sk-label label {font-family: monospace;font-weight: bold;display: inline-block;line-height: 1.2em;}#sk-container-id-1 div.sk-label-container {text-align: center;}#sk-container-id-1 div.sk-container {/* jupyter's `normalize.less` sets `[hidden] { display: none; }` but bootstrap.min.css set `[hidden] { display: none !important; }` so we also need the `!important` here to be able to override the default hidden behavior on the sphinx rendered scikit-learn.org. See: https://github.com/scikit-learn/scikit-learn/issues/21755 */display: inline-block !important;position: relative;}#sk-container-id-1 div.sk-text-repr-fallback {display: none;}</style><div id=\"sk-container-id-1\" class=\"sk-top-container\"><div class=\"sk-text-repr-fallback\"><pre>LogisticRegression(random_state=21)</pre><b>In a Jupyter environment, please rerun this cell to show the HTML representation or trust the notebook. <br />On GitHub, the HTML representation is unable to render, please try loading this page with nbviewer.org.</b></div><div class=\"sk-container\" hidden><div class=\"sk-item\"><div class=\"sk-estimator sk-toggleable\"><input class=\"sk-toggleable__control sk-hidden--visually\" id=\"sk-estimator-id-1\" type=\"checkbox\" checked><label for=\"sk-estimator-id-1\" class=\"sk-toggleable__label sk-toggleable__label-arrow\">LogisticRegression</label><div class=\"sk-toggleable__content\"><pre>LogisticRegression(random_state=21)</pre></div></div></div></div></div>"
      ],
      "text/plain": [
       "LogisticRegression(random_state=21)"
      ]
     },
     "execution_count": 46,
     "metadata": {},
     "output_type": "execute_result"
    }
   ],
   "source": [
    "# 모델 생성하기\n",
    "\n",
    "from sklearn.linear_model import LogisticRegression\n",
    "\n",
    "# 객체(모델) 생성\n",
    "log_reg = LogisticRegression(solver = 'lbfgs', random_state = 21)\n",
    "\n",
    "# 모델 훈련\n",
    "log_reg.fit(X, y)"
   ]
  },
  {
   "cell_type": "code",
   "execution_count": 47,
   "id": "a7ea3974",
   "metadata": {},
   "outputs": [
    {
     "name": "stdout",
     "output_type": "stream",
     "text": [
      "[1.661]\n"
     ]
    }
   ],
   "source": [
    "# 샘플 데이터 1000개를 만들어서 예측\n",
    "# 0 ~ 2 사이를 1000개로 분할하고 차원을 reshape\n",
    "X_new = np.linspace(0, 3, 1000).reshape(-1, 1)\n",
    "\n",
    "# 각 샘플의 확률을 계산\n",
    "y_proba = log_reg.predict_proba(X_new)\n",
    "\n",
    "# 결정 경계 점수 - 확률이 0.5를 넘는 첫번째 지점\n",
    "# 속성을 하나만 사용해서 분류\n",
    "decision_bound = X_new[y_proba[:, 1] >= 0.5][0]\n",
    "print(decision_bound) # 1.661\n",
    "# 꽃잎의 너비가 1.661 보다 크다면 verginica 로 분류\n",
    "\n",
    "# 여러 속성에 대해 분류를 해보고 싶다면\n",
    "# 처음에 데이터를 생성할 때 X, y 에 여러 속성을 부여하면 됨"
   ]
  },
  {
   "cell_type": "code",
   "execution_count": 48,
   "id": "1d4c0f52",
   "metadata": {},
   "outputs": [
    {
     "name": "stdout",
     "output_type": "stream",
     "text": [
      "[1 1 0 0]\n"
     ]
    }
   ],
   "source": [
    "# 예측\n",
    "print(log_reg.predict([[1.7], [1.67], [1.63], [1.4]])) # 1 1 0 0"
   ]
  },
  {
   "cell_type": "code",
   "execution_count": null,
   "id": "f83b6b15",
   "metadata": {},
   "outputs": [],
   "source": []
  },
  {
   "cell_type": "markdown",
   "id": "5c9052dc",
   "metadata": {},
   "source": [
    "## 0829 이어서"
   ]
  },
  {
   "cell_type": "markdown",
   "id": "2580bcd8",
   "metadata": {},
   "source": [
    "### Logistic Regression을 이용한 다중 클래스 분류(카테고리 분류)"
   ]
  },
  {
   "cell_type": "code",
   "execution_count": 52,
   "id": "e7aab382",
   "metadata": {},
   "outputs": [],
   "source": [
    "# feature 생성\n",
    "X = iris['data'][:,(2, 3)]\n",
    "#print(X)\n",
    "\n",
    "# iris 의 target 에는 3가지 종류가 속해있기 때문에\n",
    "# 다중 클래스 분류가 됨\n",
    "y = iris['target']\n",
    "#print(y)"
   ]
  },
  {
   "cell_type": "code",
   "execution_count": 50,
   "id": "e2cbe984",
   "metadata": {},
   "outputs": [
    {
     "data": {
      "text/html": [
       "<style>#sk-container-id-2 {color: black;background-color: white;}#sk-container-id-2 pre{padding: 0;}#sk-container-id-2 div.sk-toggleable {background-color: white;}#sk-container-id-2 label.sk-toggleable__label {cursor: pointer;display: block;width: 100%;margin-bottom: 0;padding: 0.3em;box-sizing: border-box;text-align: center;}#sk-container-id-2 label.sk-toggleable__label-arrow:before {content: \"▸\";float: left;margin-right: 0.25em;color: #696969;}#sk-container-id-2 label.sk-toggleable__label-arrow:hover:before {color: black;}#sk-container-id-2 div.sk-estimator:hover label.sk-toggleable__label-arrow:before {color: black;}#sk-container-id-2 div.sk-toggleable__content {max-height: 0;max-width: 0;overflow: hidden;text-align: left;background-color: #f0f8ff;}#sk-container-id-2 div.sk-toggleable__content pre {margin: 0.2em;color: black;border-radius: 0.25em;background-color: #f0f8ff;}#sk-container-id-2 input.sk-toggleable__control:checked~div.sk-toggleable__content {max-height: 200px;max-width: 100%;overflow: auto;}#sk-container-id-2 input.sk-toggleable__control:checked~label.sk-toggleable__label-arrow:before {content: \"▾\";}#sk-container-id-2 div.sk-estimator input.sk-toggleable__control:checked~label.sk-toggleable__label {background-color: #d4ebff;}#sk-container-id-2 div.sk-label input.sk-toggleable__control:checked~label.sk-toggleable__label {background-color: #d4ebff;}#sk-container-id-2 input.sk-hidden--visually {border: 0;clip: rect(1px 1px 1px 1px);clip: rect(1px, 1px, 1px, 1px);height: 1px;margin: -1px;overflow: hidden;padding: 0;position: absolute;width: 1px;}#sk-container-id-2 div.sk-estimator {font-family: monospace;background-color: #f0f8ff;border: 1px dotted black;border-radius: 0.25em;box-sizing: border-box;margin-bottom: 0.5em;}#sk-container-id-2 div.sk-estimator:hover {background-color: #d4ebff;}#sk-container-id-2 div.sk-parallel-item::after {content: \"\";width: 100%;border-bottom: 1px solid gray;flex-grow: 1;}#sk-container-id-2 div.sk-label:hover label.sk-toggleable__label {background-color: #d4ebff;}#sk-container-id-2 div.sk-serial::before {content: \"\";position: absolute;border-left: 1px solid gray;box-sizing: border-box;top: 0;bottom: 0;left: 50%;z-index: 0;}#sk-container-id-2 div.sk-serial {display: flex;flex-direction: column;align-items: center;background-color: white;padding-right: 0.2em;padding-left: 0.2em;position: relative;}#sk-container-id-2 div.sk-item {position: relative;z-index: 1;}#sk-container-id-2 div.sk-parallel {display: flex;align-items: stretch;justify-content: center;background-color: white;position: relative;}#sk-container-id-2 div.sk-item::before, #sk-container-id-2 div.sk-parallel-item::before {content: \"\";position: absolute;border-left: 1px solid gray;box-sizing: border-box;top: 0;bottom: 0;left: 50%;z-index: -1;}#sk-container-id-2 div.sk-parallel-item {display: flex;flex-direction: column;z-index: 1;position: relative;background-color: white;}#sk-container-id-2 div.sk-parallel-item:first-child::after {align-self: flex-end;width: 50%;}#sk-container-id-2 div.sk-parallel-item:last-child::after {align-self: flex-start;width: 50%;}#sk-container-id-2 div.sk-parallel-item:only-child::after {width: 0;}#sk-container-id-2 div.sk-dashed-wrapped {border: 1px dashed gray;margin: 0 0.4em 0.5em 0.4em;box-sizing: border-box;padding-bottom: 0.4em;background-color: white;}#sk-container-id-2 div.sk-label label {font-family: monospace;font-weight: bold;display: inline-block;line-height: 1.2em;}#sk-container-id-2 div.sk-label-container {text-align: center;}#sk-container-id-2 div.sk-container {/* jupyter's `normalize.less` sets `[hidden] { display: none; }` but bootstrap.min.css set `[hidden] { display: none !important; }` so we also need the `!important` here to be able to override the default hidden behavior on the sphinx rendered scikit-learn.org. See: https://github.com/scikit-learn/scikit-learn/issues/21755 */display: inline-block !important;position: relative;}#sk-container-id-2 div.sk-text-repr-fallback {display: none;}</style><div id=\"sk-container-id-2\" class=\"sk-top-container\"><div class=\"sk-text-repr-fallback\"><pre>LogisticRegression(C=10, multi_class=&#x27;multinomial&#x27;, random_state=21)</pre><b>In a Jupyter environment, please rerun this cell to show the HTML representation or trust the notebook. <br />On GitHub, the HTML representation is unable to render, please try loading this page with nbviewer.org.</b></div><div class=\"sk-container\" hidden><div class=\"sk-item\"><div class=\"sk-estimator sk-toggleable\"><input class=\"sk-toggleable__control sk-hidden--visually\" id=\"sk-estimator-id-2\" type=\"checkbox\" checked><label for=\"sk-estimator-id-2\" class=\"sk-toggleable__label sk-toggleable__label-arrow\">LogisticRegression</label><div class=\"sk-toggleable__content\"><pre>LogisticRegression(C=10, multi_class=&#x27;multinomial&#x27;, random_state=21)</pre></div></div></div></div></div>"
      ],
      "text/plain": [
       "LogisticRegression(C=10, multi_class='multinomial', random_state=21)"
      ]
     },
     "execution_count": 50,
     "metadata": {},
     "output_type": "execute_result"
    }
   ],
   "source": [
    "# 분류기 생성 및 훈련\n",
    "\n",
    "# 분류기 생성 - LogisticRegression\n",
    "# multi_class 는 다중 클래스이므로 multinomial\n",
    "# C 는 규칙의 강도(규제)의 역수\n",
    "softmax_reg = LogisticRegression(multi_class = 'multinomial',\n",
    "                                solver = 'lbfgs', C = 10, random_state = 21)\n",
    "# 훈련\n",
    "softmax_reg.fit(X,y)"
   ]
  },
  {
   "cell_type": "code",
   "execution_count": 51,
   "id": "057cc8d6",
   "metadata": {},
   "outputs": [],
   "source": [
    "# 샘플 데이터 생성 - 격자 모양 좌표\n",
    "\n",
    "# meshgrid 는 격자 좌표 생성\n",
    "# x0 는 500x500, x1 은 200x200 격자를 가지게 됨\n",
    "# 반복문을 사용하는 것과 차이는 없음\n",
    "\n",
    "# linspaace 는 범위 안에서 일정한 간격을 갖는 배열을 생성\n",
    "x0, x1 = np.meshgrid(\n",
    "    np.linspace(0, 8, 500).reshape(-1, 1),\n",
    "    np.linspace(0, 3.5, 200).reshape(-1, 1),\n",
    ")\n",
    "\n",
    "# 샘플 데이터 - 예측에 사용\n",
    "# ravel 은 flatten 처럼 하나의 행 또는 열로 만드는 함수\n",
    "# 차이점은 flatten 과 다르게 원본 source 에도 변화의 영향을 미침\n",
    "X_new = np.c_[x0.ravel(), x1.ravel()]"
   ]
  },
  {
   "cell_type": "code",
   "execution_count": 53,
   "id": "033f9498",
   "metadata": {},
   "outputs": [
    {
     "name": "stdout",
     "output_type": "stream",
     "text": [
      "[0 0 0 ... 2 2 2]\n",
      "[[1.000e+00 3.761e-06 6.800e-20]\n",
      " [1.000e+00 4.059e-06 7.857e-20]\n",
      " [1.000e+00 4.380e-06 9.079e-20]\n",
      " ...\n",
      " [7.738e-23 1.037e-11 1.000e+00]\n",
      " [6.697e-23 9.684e-12 1.000e+00]\n",
      " [5.796e-23 9.044e-12 1.000e+00]]\n"
     ]
    }
   ],
   "source": [
    "# 샘플 데이터를 가지고 예측\n",
    "\n",
    "# 예측\n",
    "y_predict = softmax_reg.predict(X_new)\n",
    "print(y_predict)\n",
    "# 예측에 사용한 확률 조회\n",
    "y_proba = softmax_reg.predict_proba(X_new)\n",
    "print(y_proba)"
   ]
  },
  {
   "cell_type": "code",
   "execution_count": null,
   "id": "3827a6bc",
   "metadata": {},
   "outputs": [],
   "source": []
  },
  {
   "cell_type": "markdown",
   "id": "4f82d8d5",
   "metadata": {},
   "source": [
    "## Support Vector Machine"
   ]
  },
  {
   "cell_type": "markdown",
   "id": "dfba1610",
   "metadata": {},
   "source": [
    "### 선형 SVM을 이용한 이진 분류"
   ]
  },
  {
   "cell_type": "code",
   "execution_count": 55,
   "id": "62cbc899",
   "metadata": {},
   "outputs": [
    {
     "data": {
      "text/html": [
       "<style>#sk-container-id-4 {color: black;background-color: white;}#sk-container-id-4 pre{padding: 0;}#sk-container-id-4 div.sk-toggleable {background-color: white;}#sk-container-id-4 label.sk-toggleable__label {cursor: pointer;display: block;width: 100%;margin-bottom: 0;padding: 0.3em;box-sizing: border-box;text-align: center;}#sk-container-id-4 label.sk-toggleable__label-arrow:before {content: \"▸\";float: left;margin-right: 0.25em;color: #696969;}#sk-container-id-4 label.sk-toggleable__label-arrow:hover:before {color: black;}#sk-container-id-4 div.sk-estimator:hover label.sk-toggleable__label-arrow:before {color: black;}#sk-container-id-4 div.sk-toggleable__content {max-height: 0;max-width: 0;overflow: hidden;text-align: left;background-color: #f0f8ff;}#sk-container-id-4 div.sk-toggleable__content pre {margin: 0.2em;color: black;border-radius: 0.25em;background-color: #f0f8ff;}#sk-container-id-4 input.sk-toggleable__control:checked~div.sk-toggleable__content {max-height: 200px;max-width: 100%;overflow: auto;}#sk-container-id-4 input.sk-toggleable__control:checked~label.sk-toggleable__label-arrow:before {content: \"▾\";}#sk-container-id-4 div.sk-estimator input.sk-toggleable__control:checked~label.sk-toggleable__label {background-color: #d4ebff;}#sk-container-id-4 div.sk-label input.sk-toggleable__control:checked~label.sk-toggleable__label {background-color: #d4ebff;}#sk-container-id-4 input.sk-hidden--visually {border: 0;clip: rect(1px 1px 1px 1px);clip: rect(1px, 1px, 1px, 1px);height: 1px;margin: -1px;overflow: hidden;padding: 0;position: absolute;width: 1px;}#sk-container-id-4 div.sk-estimator {font-family: monospace;background-color: #f0f8ff;border: 1px dotted black;border-radius: 0.25em;box-sizing: border-box;margin-bottom: 0.5em;}#sk-container-id-4 div.sk-estimator:hover {background-color: #d4ebff;}#sk-container-id-4 div.sk-parallel-item::after {content: \"\";width: 100%;border-bottom: 1px solid gray;flex-grow: 1;}#sk-container-id-4 div.sk-label:hover label.sk-toggleable__label {background-color: #d4ebff;}#sk-container-id-4 div.sk-serial::before {content: \"\";position: absolute;border-left: 1px solid gray;box-sizing: border-box;top: 0;bottom: 0;left: 50%;z-index: 0;}#sk-container-id-4 div.sk-serial {display: flex;flex-direction: column;align-items: center;background-color: white;padding-right: 0.2em;padding-left: 0.2em;position: relative;}#sk-container-id-4 div.sk-item {position: relative;z-index: 1;}#sk-container-id-4 div.sk-parallel {display: flex;align-items: stretch;justify-content: center;background-color: white;position: relative;}#sk-container-id-4 div.sk-item::before, #sk-container-id-4 div.sk-parallel-item::before {content: \"\";position: absolute;border-left: 1px solid gray;box-sizing: border-box;top: 0;bottom: 0;left: 50%;z-index: -1;}#sk-container-id-4 div.sk-parallel-item {display: flex;flex-direction: column;z-index: 1;position: relative;background-color: white;}#sk-container-id-4 div.sk-parallel-item:first-child::after {align-self: flex-end;width: 50%;}#sk-container-id-4 div.sk-parallel-item:last-child::after {align-self: flex-start;width: 50%;}#sk-container-id-4 div.sk-parallel-item:only-child::after {width: 0;}#sk-container-id-4 div.sk-dashed-wrapped {border: 1px dashed gray;margin: 0 0.4em 0.5em 0.4em;box-sizing: border-box;padding-bottom: 0.4em;background-color: white;}#sk-container-id-4 div.sk-label label {font-family: monospace;font-weight: bold;display: inline-block;line-height: 1.2em;}#sk-container-id-4 div.sk-label-container {text-align: center;}#sk-container-id-4 div.sk-container {/* jupyter's `normalize.less` sets `[hidden] { display: none; }` but bootstrap.min.css set `[hidden] { display: none !important; }` so we also need the `!important` here to be able to override the default hidden behavior on the sphinx rendered scikit-learn.org. See: https://github.com/scikit-learn/scikit-learn/issues/21755 */display: inline-block !important;position: relative;}#sk-container-id-4 div.sk-text-repr-fallback {display: none;}</style><div id=\"sk-container-id-4\" class=\"sk-top-container\"><div class=\"sk-text-repr-fallback\"><pre>Pipeline(steps=[(&#x27;scaler&#x27;, StandardScaler()),\n",
       "                (&#x27;linear_svc&#x27;, LinearSVC(C=1, loss=&#x27;hinge&#x27;, random_state=21))])</pre><b>In a Jupyter environment, please rerun this cell to show the HTML representation or trust the notebook. <br />On GitHub, the HTML representation is unable to render, please try loading this page with nbviewer.org.</b></div><div class=\"sk-container\" hidden><div class=\"sk-item sk-dashed-wrapped\"><div class=\"sk-label-container\"><div class=\"sk-label sk-toggleable\"><input class=\"sk-toggleable__control sk-hidden--visually\" id=\"sk-estimator-id-6\" type=\"checkbox\" ><label for=\"sk-estimator-id-6\" class=\"sk-toggleable__label sk-toggleable__label-arrow\">Pipeline</label><div class=\"sk-toggleable__content\"><pre>Pipeline(steps=[(&#x27;scaler&#x27;, StandardScaler()),\n",
       "                (&#x27;linear_svc&#x27;, LinearSVC(C=1, loss=&#x27;hinge&#x27;, random_state=21))])</pre></div></div></div><div class=\"sk-serial\"><div class=\"sk-item\"><div class=\"sk-estimator sk-toggleable\"><input class=\"sk-toggleable__control sk-hidden--visually\" id=\"sk-estimator-id-7\" type=\"checkbox\" ><label for=\"sk-estimator-id-7\" class=\"sk-toggleable__label sk-toggleable__label-arrow\">StandardScaler</label><div class=\"sk-toggleable__content\"><pre>StandardScaler()</pre></div></div></div><div class=\"sk-item\"><div class=\"sk-estimator sk-toggleable\"><input class=\"sk-toggleable__control sk-hidden--visually\" id=\"sk-estimator-id-8\" type=\"checkbox\" ><label for=\"sk-estimator-id-8\" class=\"sk-toggleable__label sk-toggleable__label-arrow\">LinearSVC</label><div class=\"sk-toggleable__content\"><pre>LinearSVC(C=1, loss=&#x27;hinge&#x27;, random_state=21)</pre></div></div></div></div></div></div></div>"
      ],
      "text/plain": [
       "Pipeline(steps=[('scaler', StandardScaler()),\n",
       "                ('linear_svc', LinearSVC(C=1, loss='hinge', random_state=21))])"
      ]
     },
     "execution_count": 55,
     "metadata": {},
     "output_type": "execute_result"
    }
   ],
   "source": [
    "from sklearn.pipeline import Pipeline\n",
    "from sklearn.svm import LinearSVC\n",
    "\n",
    "iris = datasets.load_iris()\n",
    "\n",
    "# feature 는 2개만 사용\n",
    "X = iris['data'][:, (2, 3)]\n",
    "# 이진 분류를 수행하기 위해서 target 을 수정 - 2인지 아닌지\n",
    "y = (iris['target'] == 2).astype(np.float64)\n",
    "\n",
    "# 스케일링과 훈련을 실시할 모델을 pipeline 으로 구성\n",
    "# 머신러닝이나 데이터 처리 등을 할 때 Pipeline 을 구성하는 것은 매우 중요함\n",
    "# Pipeline을 구성하지 않고 순차적으로 처리해도 되지만 이런 경우 가독성이 떨어짐\n",
    "svm_clf = Pipeline([\n",
    "    # 스케이링\n",
    "    ('scaler', StandardScaler()), \n",
    "    #LinearSVC 함수를 사용해서 모델 생성\n",
    "    ('linear_svc', LinearSVC(C = 1, loss = 'hinge',\n",
    "                            random_state = 21))\n",
    "])\n",
    "# 스케일링과 모델 생성을 따로 수행해도 됨\n",
    "# svm 은 스케일링에 민감하므로 스케일링을 우선 적용\n",
    "\n",
    "# 훈련\n",
    "svm_clf.fit(X, y)"
   ]
  },
  {
   "cell_type": "code",
   "execution_count": 58,
   "id": "d46d0727",
   "metadata": {},
   "outputs": [
    {
     "name": "stdout",
     "output_type": "stream",
     "text": [
      "[1.]\n",
      "[0.]\n"
     ]
    }
   ],
   "source": [
    "# 훈련을 바탕으로 예측\n",
    "\n",
    "# 훈련한 모델에 데이터를 입력해서 예측\n",
    "# 데이터는 2차원 배열로 제공해야 함\n",
    "# 결과로 1이 나오면 2번 클래스가 맞는 것이고 0이면 아님\n",
    "print(svm_clf.predict([[1.5, 3.6]])) # [1.]\n",
    "print(svm_clf.predict([[2.4, 1.9]])) # [0.]\n"
   ]
  },
  {
   "cell_type": "code",
   "execution_count": null,
   "id": "7c6bc2c6",
   "metadata": {},
   "outputs": [],
   "source": []
  },
  {
   "cell_type": "markdown",
   "id": "66efb563",
   "metadata": {},
   "source": [
    "### 비선형 SVM"
   ]
  },
  {
   "cell_type": "code",
   "execution_count": 64,
   "id": "5adbeec5",
   "metadata": {
    "scrolled": false
   },
   "outputs": [
    {
     "data": {
      "image/png": "[encoded data removed]",
      "text/plain": [
       "<Figure size 640x480 with 1 Axes>"
      ]
     },
     "metadata": {},
     "output_type": "display_data"
    },
    {
     "data": {
      "text/plain": [
       "<Figure size 600x400 with 0 Axes>"
      ]
     },
     "metadata": {},
     "output_type": "display_data"
    }
   ],
   "source": [
    "# 비선형을 설명하기 위한 데이터 생성\n",
    "from sklearn.datasets import make_moons\n",
    "\n",
    "# n_samples 는 생성할 데이터의 수, noise 는 노이즈\n",
    "X, y = make_moons(n_samples = 200, noise = 0.1, random_state = 21)\n",
    "\n",
    "# 그래프 그리기 함수\n",
    "def plot_dataset(X, y, axes):\n",
    "    # y == 0 에 해당하는 데이터를 파란 사각형으로\n",
    "    plt.plot(X[:,0][y == 0], X[:,1][y == 0], 'bs')\n",
    "    # y == 1 에 해당하는 데이터를 녹색 삼각형으로\n",
    "    plt.plot(X[:,0][y == 1], X[:,1][y == 1], 'g^')\n",
    "    plt.axis(axes) # 축\n",
    "    plt.grid(True, which = 'both') # 격자 보여주기\n",
    "    plt.xlabel(r'$x_1$', fontsize = 16)\n",
    "    plt.ylabel(r'$x_2$', fontsize = 16, rotation = 0)\n",
    "    plt.figure(figsize = (6, 4))\n",
    "    \n",
    "# 생성한 데이터 확인\n",
    "plot_dataset(X, y, [-1.5, 2.5, -1, 1.5])\n",
    "plt.show()"
   ]
  },
  {
   "cell_type": "code",
   "execution_count": 75,
   "id": "95cd28da",
   "metadata": {},
   "outputs": [
    {
     "name": "stderr",
     "output_type": "stream",
     "text": [
      "C:\\Users\\USER\\anaconda3\\lib\\site-packages\\sklearn\\svm\\_base.py:1244: ConvergenceWarning: Liblinear failed to converge, increase the number of iterations.\n",
      "  warnings.warn(\n"
     ]
    },
    {
     "data": {
      "text/html": [
       "<style>#sk-container-id-10 {color: black;background-color: white;}#sk-container-id-10 pre{padding: 0;}#sk-container-id-10 div.sk-toggleable {background-color: white;}#sk-container-id-10 label.sk-toggleable__label {cursor: pointer;display: block;width: 100%;margin-bottom: 0;padding: 0.3em;box-sizing: border-box;text-align: center;}#sk-container-id-10 label.sk-toggleable__label-arrow:before {content: \"▸\";float: left;margin-right: 0.25em;color: #696969;}#sk-container-id-10 label.sk-toggleable__label-arrow:hover:before {color: black;}#sk-container-id-10 div.sk-estimator:hover label.sk-toggleable__label-arrow:before {color: black;}#sk-container-id-10 div.sk-toggleable__content {max-height: 0;max-width: 0;overflow: hidden;text-align: left;background-color: #f0f8ff;}#sk-container-id-10 div.sk-toggleable__content pre {margin: 0.2em;color: black;border-radius: 0.25em;background-color: #f0f8ff;}#sk-container-id-10 input.sk-toggleable__control:checked~div.sk-toggleable__content {max-height: 200px;max-width: 100%;overflow: auto;}#sk-container-id-10 input.sk-toggleable__control:checked~label.sk-toggleable__label-arrow:before {content: \"▾\";}#sk-container-id-10 div.sk-estimator input.sk-toggleable__control:checked~label.sk-toggleable__label {background-color: #d4ebff;}#sk-container-id-10 div.sk-label input.sk-toggleable__control:checked~label.sk-toggleable__label {background-color: #d4ebff;}#sk-container-id-10 input.sk-hidden--visually {border: 0;clip: rect(1px 1px 1px 1px);clip: rect(1px, 1px, 1px, 1px);height: 1px;margin: -1px;overflow: hidden;padding: 0;position: absolute;width: 1px;}#sk-container-id-10 div.sk-estimator {font-family: monospace;background-color: #f0f8ff;border: 1px dotted black;border-radius: 0.25em;box-sizing: border-box;margin-bottom: 0.5em;}#sk-container-id-10 div.sk-estimator:hover {background-color: #d4ebff;}#sk-container-id-10 div.sk-parallel-item::after {content: \"\";width: 100%;border-bottom: 1px solid gray;flex-grow: 1;}#sk-container-id-10 div.sk-label:hover label.sk-toggleable__label {background-color: #d4ebff;}#sk-container-id-10 div.sk-serial::before {content: \"\";position: absolute;border-left: 1px solid gray;box-sizing: border-box;top: 0;bottom: 0;left: 50%;z-index: 0;}#sk-container-id-10 div.sk-serial {display: flex;flex-direction: column;align-items: center;background-color: white;padding-right: 0.2em;padding-left: 0.2em;position: relative;}#sk-container-id-10 div.sk-item {position: relative;z-index: 1;}#sk-container-id-10 div.sk-parallel {display: flex;align-items: stretch;justify-content: center;background-color: white;position: relative;}#sk-container-id-10 div.sk-item::before, #sk-container-id-10 div.sk-parallel-item::before {content: \"\";position: absolute;border-left: 1px solid gray;box-sizing: border-box;top: 0;bottom: 0;left: 50%;z-index: -1;}#sk-container-id-10 div.sk-parallel-item {display: flex;flex-direction: column;z-index: 1;position: relative;background-color: white;}#sk-container-id-10 div.sk-parallel-item:first-child::after {align-self: flex-end;width: 50%;}#sk-container-id-10 div.sk-parallel-item:last-child::after {align-self: flex-start;width: 50%;}#sk-container-id-10 div.sk-parallel-item:only-child::after {width: 0;}#sk-container-id-10 div.sk-dashed-wrapped {border: 1px dashed gray;margin: 0 0.4em 0.5em 0.4em;box-sizing: border-box;padding-bottom: 0.4em;background-color: white;}#sk-container-id-10 div.sk-label label {font-family: monospace;font-weight: bold;display: inline-block;line-height: 1.2em;}#sk-container-id-10 div.sk-label-container {text-align: center;}#sk-container-id-10 div.sk-container {/* jupyter's `normalize.less` sets `[hidden] { display: none; }` but bootstrap.min.css set `[hidden] { display: none !important; }` so we also need the `!important` here to be able to override the default hidden behavior on the sphinx rendered scikit-learn.org. See: https://github.com/scikit-learn/scikit-learn/issues/21755 */display: inline-block !important;position: relative;}#sk-container-id-10 div.sk-text-repr-fallback {display: none;}</style><div id=\"sk-container-id-10\" class=\"sk-top-container\"><div class=\"sk-text-repr-fallback\"><pre>Pipeline(steps=[(&#x27;poly_features&#x27;, PolynomialFeatures(degree=5)),\n",
       "                (&#x27;scaler&#x27;, StandardScaler()),\n",
       "                (&#x27;svm_clf&#x27;, LinearSVC(C=10, loss=&#x27;hinge&#x27;, random_state=21))])</pre><b>In a Jupyter environment, please rerun this cell to show the HTML representation or trust the notebook. <br />On GitHub, the HTML representation is unable to render, please try loading this page with nbviewer.org.</b></div><div class=\"sk-container\" hidden><div class=\"sk-item sk-dashed-wrapped\"><div class=\"sk-label-container\"><div class=\"sk-label sk-toggleable\"><input class=\"sk-toggleable__control sk-hidden--visually\" id=\"sk-estimator-id-29\" type=\"checkbox\" ><label for=\"sk-estimator-id-29\" class=\"sk-toggleable__label sk-toggleable__label-arrow\">Pipeline</label><div class=\"sk-toggleable__content\"><pre>Pipeline(steps=[(&#x27;poly_features&#x27;, PolynomialFeatures(degree=5)),\n",
       "                (&#x27;scaler&#x27;, StandardScaler()),\n",
       "                (&#x27;svm_clf&#x27;, LinearSVC(C=10, loss=&#x27;hinge&#x27;, random_state=21))])</pre></div></div></div><div class=\"sk-serial\"><div class=\"sk-item\"><div class=\"sk-estimator sk-toggleable\"><input class=\"sk-toggleable__control sk-hidden--visually\" id=\"sk-estimator-id-30\" type=\"checkbox\" ><label for=\"sk-estimator-id-30\" class=\"sk-toggleable__label sk-toggleable__label-arrow\">PolynomialFeatures</label><div class=\"sk-toggleable__content\"><pre>PolynomialFeatures(degree=5)</pre></div></div></div><div class=\"sk-item\"><div class=\"sk-estimator sk-toggleable\"><input class=\"sk-toggleable__control sk-hidden--visually\" id=\"sk-estimator-id-31\" type=\"checkbox\" ><label for=\"sk-estimator-id-31\" class=\"sk-toggleable__label sk-toggleable__label-arrow\">StandardScaler</label><div class=\"sk-toggleable__content\"><pre>StandardScaler()</pre></div></div></div><div class=\"sk-item\"><div class=\"sk-estimator sk-toggleable\"><input class=\"sk-toggleable__control sk-hidden--visually\" id=\"sk-estimator-id-32\" type=\"checkbox\" ><label for=\"sk-estimator-id-32\" class=\"sk-toggleable__label sk-toggleable__label-arrow\">LinearSVC</label><div class=\"sk-toggleable__content\"><pre>LinearSVC(C=10, loss=&#x27;hinge&#x27;, random_state=21)</pre></div></div></div></div></div></div></div>"
      ],
      "text/plain": [
       "Pipeline(steps=[('poly_features', PolynomialFeatures(degree=5)),\n",
       "                ('scaler', StandardScaler()),\n",
       "                ('svm_clf', LinearSVC(C=10, loss='hinge', random_state=21))])"
      ]
     },
     "execution_count": 75,
     "metadata": {},
     "output_type": "execute_result"
    }
   ],
   "source": [
    "# 비선형 SVM을 이용해서 위의 데이터를 훈련\n",
    "\n",
    "from sklearn.preprocessing import PolynomialFeatures\n",
    "\n",
    "# pipeline 을 통해 모델 생성\n",
    "# Poly 에서 degree 를 높이면 차수가 높아져서 곡선이 복잡해점\n",
    "# 차수가 높아지면 훈련 데이터는 잘 구분하지만\n",
    "# 새로운 데이터에 대해서는 잘 구분하지 못할 수 있음 - 과적합(overfitting)\n",
    "polynomial_svm_clf = Pipeline([\n",
    "    ('poly_features', PolynomialFeatures(degree = 5)),\n",
    "    ('scaler', StandardScaler()),\n",
    "    ('svm_clf', LinearSVC(C = 10, loss = 'hinge', random_state = 21))\n",
    "])\n",
    "\n",
    "# 모델을 가지고 훈련\n",
    "polynomial_svm_clf.fit(X, y)"
   ]
  },
  {
   "cell_type": "code",
   "execution_count": 76,
   "id": "22f5f840",
   "metadata": {},
   "outputs": [
    {
     "data": {
      "image/png": "[encoded data removed]",
      "text/plain": [
       "<Figure size 640x480 with 1 Axes>"
      ]
     },
     "metadata": {},
     "output_type": "display_data"
    },
    {
     "data": {
      "text/plain": [
       "<Figure size 600x400 with 0 Axes>"
      ]
     },
     "metadata": {},
     "output_type": "display_data"
    }
   ],
   "source": [
    "# 결정 경계와 데이터의 분포를 시각화\n",
    "\n",
    "def plot_predictions(clf, axes):\n",
    "    # 샘플 데이터 생성\n",
    "    x0 = np.linspace(axes[0], axes[1], 100)\n",
    "    x1 = np.linspace(axes[2], axes[3], 100)\n",
    "    x0, x1 = np.meshgrid(x0, x1)\n",
    "    X = np.c_[x0.ravel(), x1.ravel()]\n",
    "    # 예측\n",
    "    y_pred = clf.predict(X).reshape(x0.shape)\n",
    "    y_decision = clf.decision_function(X).reshape(x0.shape)\n",
    "    # 색칠하기\n",
    "    plt.contourf(x0, x1, y_pred, cmap = plt.cm.brg, alpha = 0.2)\n",
    "    plt.contourf(x0, x1, y_decision, cmap = plt.cm.brg, alpha = 0.1)\n",
    "    \n",
    "plot_predictions(polynomial_svm_clf, [-1.5, 2.5, -1, 1.5])\n",
    "plot_dataset(X, y, [-1.5, 2.5, -1, 1.5])"
   ]
  },
  {
   "cell_type": "markdown",
   "id": "7a9e03d4",
   "metadata": {},
   "source": [
    "### 가우시안 RBF 커널을 이용한 비선형 SVM"
   ]
  },
  {
   "cell_type": "code",
   "execution_count": 81,
   "id": "a898fa0c",
   "metadata": {},
   "outputs": [
    {
     "data": {
      "text/html": [
       "<style>#sk-container-id-12 {color: black;background-color: white;}#sk-container-id-12 pre{padding: 0;}#sk-container-id-12 div.sk-toggleable {background-color: white;}#sk-container-id-12 label.sk-toggleable__label {cursor: pointer;display: block;width: 100%;margin-bottom: 0;padding: 0.3em;box-sizing: border-box;text-align: center;}#sk-container-id-12 label.sk-toggleable__label-arrow:before {content: \"▸\";float: left;margin-right: 0.25em;color: #696969;}#sk-container-id-12 label.sk-toggleable__label-arrow:hover:before {color: black;}#sk-container-id-12 div.sk-estimator:hover label.sk-toggleable__label-arrow:before {color: black;}#sk-container-id-12 div.sk-toggleable__content {max-height: 0;max-width: 0;overflow: hidden;text-align: left;background-color: #f0f8ff;}#sk-container-id-12 div.sk-toggleable__content pre {margin: 0.2em;color: black;border-radius: 0.25em;background-color: #f0f8ff;}#sk-container-id-12 input.sk-toggleable__control:checked~div.sk-toggleable__content {max-height: 200px;max-width: 100%;overflow: auto;}#sk-container-id-12 input.sk-toggleable__control:checked~label.sk-toggleable__label-arrow:before {content: \"▾\";}#sk-container-id-12 div.sk-estimator input.sk-toggleable__control:checked~label.sk-toggleable__label {background-color: #d4ebff;}#sk-container-id-12 div.sk-label input.sk-toggleable__control:checked~label.sk-toggleable__label {background-color: #d4ebff;}#sk-container-id-12 input.sk-hidden--visually {border: 0;clip: rect(1px 1px 1px 1px);clip: rect(1px, 1px, 1px, 1px);height: 1px;margin: -1px;overflow: hidden;padding: 0;position: absolute;width: 1px;}#sk-container-id-12 div.sk-estimator {font-family: monospace;background-color: #f0f8ff;border: 1px dotted black;border-radius: 0.25em;box-sizing: border-box;margin-bottom: 0.5em;}#sk-container-id-12 div.sk-estimator:hover {background-color: #d4ebff;}#sk-container-id-12 div.sk-parallel-item::after {content: \"\";width: 100%;border-bottom: 1px solid gray;flex-grow: 1;}#sk-container-id-12 div.sk-label:hover label.sk-toggleable__label {background-color: #d4ebff;}#sk-container-id-12 div.sk-serial::before {content: \"\";position: absolute;border-left: 1px solid gray;box-sizing: border-box;top: 0;bottom: 0;left: 50%;z-index: 0;}#sk-container-id-12 div.sk-serial {display: flex;flex-direction: column;align-items: center;background-color: white;padding-right: 0.2em;padding-left: 0.2em;position: relative;}#sk-container-id-12 div.sk-item {position: relative;z-index: 1;}#sk-container-id-12 div.sk-parallel {display: flex;align-items: stretch;justify-content: center;background-color: white;position: relative;}#sk-container-id-12 div.sk-item::before, #sk-container-id-12 div.sk-parallel-item::before {content: \"\";position: absolute;border-left: 1px solid gray;box-sizing: border-box;top: 0;bottom: 0;left: 50%;z-index: -1;}#sk-container-id-12 div.sk-parallel-item {display: flex;flex-direction: column;z-index: 1;position: relative;background-color: white;}#sk-container-id-12 div.sk-parallel-item:first-child::after {align-self: flex-end;width: 50%;}#sk-container-id-12 div.sk-parallel-item:last-child::after {align-self: flex-start;width: 50%;}#sk-container-id-12 div.sk-parallel-item:only-child::after {width: 0;}#sk-container-id-12 div.sk-dashed-wrapped {border: 1px dashed gray;margin: 0 0.4em 0.5em 0.4em;box-sizing: border-box;padding-bottom: 0.4em;background-color: white;}#sk-container-id-12 div.sk-label label {font-family: monospace;font-weight: bold;display: inline-block;line-height: 1.2em;}#sk-container-id-12 div.sk-label-container {text-align: center;}#sk-container-id-12 div.sk-container {/* jupyter's `normalize.less` sets `[hidden] { display: none; }` but bootstrap.min.css set `[hidden] { display: none !important; }` so we also need the `!important` here to be able to override the default hidden behavior on the sphinx rendered scikit-learn.org. See: https://github.com/scikit-learn/scikit-learn/issues/21755 */display: inline-block !important;position: relative;}#sk-container-id-12 div.sk-text-repr-fallback {display: none;}</style><div id=\"sk-container-id-12\" class=\"sk-top-container\"><div class=\"sk-text-repr-fallback\"><pre>Pipeline(steps=[(&#x27;scaler&#x27;, StandardScaler()),\n",
       "                (&#x27;svm_clf&#x27;, SVC(gamma=5, random_state=21))])</pre><b>In a Jupyter environment, please rerun this cell to show the HTML representation or trust the notebook. <br />On GitHub, the HTML representation is unable to render, please try loading this page with nbviewer.org.</b></div><div class=\"sk-container\" hidden><div class=\"sk-item sk-dashed-wrapped\"><div class=\"sk-label-container\"><div class=\"sk-label sk-toggleable\"><input class=\"sk-toggleable__control sk-hidden--visually\" id=\"sk-estimator-id-36\" type=\"checkbox\" ><label for=\"sk-estimator-id-36\" class=\"sk-toggleable__label sk-toggleable__label-arrow\">Pipeline</label><div class=\"sk-toggleable__content\"><pre>Pipeline(steps=[(&#x27;scaler&#x27;, StandardScaler()),\n",
       "                (&#x27;svm_clf&#x27;, SVC(gamma=5, random_state=21))])</pre></div></div></div><div class=\"sk-serial\"><div class=\"sk-item\"><div class=\"sk-estimator sk-toggleable\"><input class=\"sk-toggleable__control sk-hidden--visually\" id=\"sk-estimator-id-37\" type=\"checkbox\" ><label for=\"sk-estimator-id-37\" class=\"sk-toggleable__label sk-toggleable__label-arrow\">StandardScaler</label><div class=\"sk-toggleable__content\"><pre>StandardScaler()</pre></div></div></div><div class=\"sk-item\"><div class=\"sk-estimator sk-toggleable\"><input class=\"sk-toggleable__control sk-hidden--visually\" id=\"sk-estimator-id-38\" type=\"checkbox\" ><label for=\"sk-estimator-id-38\" class=\"sk-toggleable__label sk-toggleable__label-arrow\">SVC</label><div class=\"sk-toggleable__content\"><pre>SVC(gamma=5, random_state=21)</pre></div></div></div></div></div></div></div>"
      ],
      "text/plain": [
       "Pipeline(steps=[('scaler', StandardScaler()),\n",
       "                ('svm_clf', SVC(gamma=5, random_state=21))])"
      ]
     },
     "execution_count": 81,
     "metadata": {},
     "output_type": "execute_result"
    }
   ],
   "source": [
    "from sklearn.svm import SVC\n",
    "\n",
    "# 모델 생성\n",
    "\n",
    "rbf_kernel_svm_clf = Pipeline([\n",
    "    ('scaler', StandardScaler()),\n",
    "    # 커널에 rbf 를 지정\n",
    "    ('svm_clf',SVC(kernel = 'rbf', gamma = 5, random_state = 21))\n",
    "])\n",
    "# 하이퍼 파라미터 gamma 를 사용하는데 이 값을 증가시키면 \n",
    "# 종 모양 그래프가 좁아지고 각 샘플의 영향 범위가 작아져서\n",
    "# 결정 경계가 조금 더 불규칙해지며 작은 gamma 값은 넓은 종 모양\n",
    "# 그래프를 만들어냄\n",
    "\n",
    "# 훈련\n",
    "rbf_kernel_svm_clf.fit(X, y)"
   ]
  },
  {
   "cell_type": "code",
   "execution_count": 78,
   "id": "400d859e",
   "metadata": {},
   "outputs": [],
   "source": [
    "#help(SVC)"
   ]
  },
  {
   "cell_type": "code",
   "execution_count": 82,
   "id": "1f509c8d",
   "metadata": {},
   "outputs": [
    {
     "data": {
      "image/png": "[encoded data removed]",
      "text/plain": [
       "<Figure size 640x480 with 1 Axes>"
      ]
     },
     "metadata": {},
     "output_type": "display_data"
    },
    {
     "data": {
      "text/plain": [
       "<Figure size 600x400 with 0 Axes>"
      ]
     },
     "metadata": {},
     "output_type": "display_data"
    }
   ],
   "source": [
    "# 결과를 시각화\n",
    "# polynomial 이 모델에 없는데도 결과와 같이 비선형 SVM 을 구성\n",
    "plot_predictions(polynomial_svm_clf, [-1.5, 2.5, -1, 1.5])\n",
    "plot_dataset(X, y, [-1.5, 2.5, -1, 1.5])\n",
    "plt.show()"
   ]
  },
  {
   "cell_type": "markdown",
   "id": "80c8e4bf",
   "metadata": {},
   "source": [
    "## Decision Tree"
   ]
  },
  {
   "cell_type": "markdown",
   "id": "7682d183",
   "metadata": {},
   "source": [
    "### 분류 모델의 생성 및 훈련과 시각화"
   ]
  },
  {
   "cell_type": "code",
   "execution_count": 84,
   "id": "37281718",
   "metadata": {},
   "outputs": [
    {
     "data": {
      "text/html": [
       "<style>#sk-container-id-13 {color: black;background-color: white;}#sk-container-id-13 pre{padding: 0;}#sk-container-id-13 div.sk-toggleable {background-color: white;}#sk-container-id-13 label.sk-toggleable__label {cursor: pointer;display: block;width: 100%;margin-bottom: 0;padding: 0.3em;box-sizing: border-box;text-align: center;}#sk-container-id-13 label.sk-toggleable__label-arrow:before {content: \"▸\";float: left;margin-right: 0.25em;color: #696969;}#sk-container-id-13 label.sk-toggleable__label-arrow:hover:before {color: black;}#sk-container-id-13 div.sk-estimator:hover label.sk-toggleable__label-arrow:before {color: black;}#sk-container-id-13 div.sk-toggleable__content {max-height: 0;max-width: 0;overflow: hidden;text-align: left;background-color: #f0f8ff;}#sk-container-id-13 div.sk-toggleable__content pre {margin: 0.2em;color: black;border-radius: 0.25em;background-color: #f0f8ff;}#sk-container-id-13 input.sk-toggleable__control:checked~div.sk-toggleable__content {max-height: 200px;max-width: 100%;overflow: auto;}#sk-container-id-13 input.sk-toggleable__control:checked~label.sk-toggleable__label-arrow:before {content: \"▾\";}#sk-container-id-13 div.sk-estimator input.sk-toggleable__control:checked~label.sk-toggleable__label {background-color: #d4ebff;}#sk-container-id-13 div.sk-label input.sk-toggleable__control:checked~label.sk-toggleable__label {background-color: #d4ebff;}#sk-container-id-13 input.sk-hidden--visually {border: 0;clip: rect(1px 1px 1px 1px);clip: rect(1px, 1px, 1px, 1px);height: 1px;margin: -1px;overflow: hidden;padding: 0;position: absolute;width: 1px;}#sk-container-id-13 div.sk-estimator {font-family: monospace;background-color: #f0f8ff;border: 1px dotted black;border-radius: 0.25em;box-sizing: border-box;margin-bottom: 0.5em;}#sk-container-id-13 div.sk-estimator:hover {background-color: #d4ebff;}#sk-container-id-13 div.sk-parallel-item::after {content: \"\";width: 100%;border-bottom: 1px solid gray;flex-grow: 1;}#sk-container-id-13 div.sk-label:hover label.sk-toggleable__label {background-color: #d4ebff;}#sk-container-id-13 div.sk-serial::before {content: \"\";position: absolute;border-left: 1px solid gray;box-sizing: border-box;top: 0;bottom: 0;left: 50%;z-index: 0;}#sk-container-id-13 div.sk-serial {display: flex;flex-direction: column;align-items: center;background-color: white;padding-right: 0.2em;padding-left: 0.2em;position: relative;}#sk-container-id-13 div.sk-item {position: relative;z-index: 1;}#sk-container-id-13 div.sk-parallel {display: flex;align-items: stretch;justify-content: center;background-color: white;position: relative;}#sk-container-id-13 div.sk-item::before, #sk-container-id-13 div.sk-parallel-item::before {content: \"\";position: absolute;border-left: 1px solid gray;box-sizing: border-box;top: 0;bottom: 0;left: 50%;z-index: -1;}#sk-container-id-13 div.sk-parallel-item {display: flex;flex-direction: column;z-index: 1;position: relative;background-color: white;}#sk-container-id-13 div.sk-parallel-item:first-child::after {align-self: flex-end;width: 50%;}#sk-container-id-13 div.sk-parallel-item:last-child::after {align-self: flex-start;width: 50%;}#sk-container-id-13 div.sk-parallel-item:only-child::after {width: 0;}#sk-container-id-13 div.sk-dashed-wrapped {border: 1px dashed gray;margin: 0 0.4em 0.5em 0.4em;box-sizing: border-box;padding-bottom: 0.4em;background-color: white;}#sk-container-id-13 div.sk-label label {font-family: monospace;font-weight: bold;display: inline-block;line-height: 1.2em;}#sk-container-id-13 div.sk-label-container {text-align: center;}#sk-container-id-13 div.sk-container {/* jupyter's `normalize.less` sets `[hidden] { display: none; }` but bootstrap.min.css set `[hidden] { display: none !important; }` so we also need the `!important` here to be able to override the default hidden behavior on the sphinx rendered scikit-learn.org. See: https://github.com/scikit-learn/scikit-learn/issues/21755 */display: inline-block !important;position: relative;}#sk-container-id-13 div.sk-text-repr-fallback {display: none;}</style><div id=\"sk-container-id-13\" class=\"sk-top-container\"><div class=\"sk-text-repr-fallback\"><pre>DecisionTreeClassifier(max_depth=2, random_state=21)</pre><b>In a Jupyter environment, please rerun this cell to show the HTML representation or trust the notebook. <br />On GitHub, the HTML representation is unable to render, please try loading this page with nbviewer.org.</b></div><div class=\"sk-container\" hidden><div class=\"sk-item\"><div class=\"sk-estimator sk-toggleable\"><input class=\"sk-toggleable__control sk-hidden--visually\" id=\"sk-estimator-id-39\" type=\"checkbox\" checked><label for=\"sk-estimator-id-39\" class=\"sk-toggleable__label sk-toggleable__label-arrow\">DecisionTreeClassifier</label><div class=\"sk-toggleable__content\"><pre>DecisionTreeClassifier(max_depth=2, random_state=21)</pre></div></div></div></div></div>"
      ],
      "text/plain": [
       "DecisionTreeClassifier(max_depth=2, random_state=21)"
      ]
     },
     "execution_count": 84,
     "metadata": {},
     "output_type": "execute_result"
    }
   ],
   "source": [
    "from sklearn.datasets import load_iris\n",
    "from sklearn.tree import DecisionTreeClassifier\n",
    "\n",
    "lris = load_iris()\n",
    "\n",
    "X = iris['data'][:, 2:]\n",
    "y = iris['target']\n",
    "\n",
    "# 모델 생성\n",
    "tree_clf = DecisionTreeClassifier(max_depth = 2, random_state = 21)\n",
    "# 훈련\n",
    "tree_clf.fit(X, y)"
   ]
  },
  {
   "cell_type": "code",
   "execution_count": 85,
   "id": "06af1eaf",
   "metadata": {},
   "outputs": [
    {
     "name": "stdout",
     "output_type": "stream",
     "text": [
      "Collecting graphviz\n",
      "  Downloading graphviz-0.20.1-py3-none-any.whl (47 kB)\n",
      "     ---------------------------------------- 47.0/47.0 kB 2.5 MB/s eta 0:00:00\n",
      "Installing collected packages: graphviz\n",
      "Successfully installed graphviz-0.20.1\n"
     ]
    }
   ],
   "source": [
    "!pip install graphviz"
   ]
  },
  {
   "cell_type": "code",
   "execution_count": 86,
   "id": "334be5c3",
   "metadata": {},
   "outputs": [],
   "source": [
    "# 시각화\n",
    "\n",
    "from sklearn.tree import export_graphviz\n",
    "import graphviz\n",
    "\n",
    "# out_file 은 저장할 파일 이름(확장자는 dot)\n",
    "# 데이터를 생성할 때 'X = iris['data'][:, 2:]' 를\n",
    "# 사용 했으므로 feature_names 에서도 [2:] 를 사용\n",
    "# class_naems 가 실제 이름\n",
    "export_graphviz(\n",
    "    tree_clf,\n",
    "    out_file = 'iris_tree.dot',\n",
    "    feature_names = iris.feature_names[2:],\n",
    "    class_names = iris.target_names,\n",
    "    rounded = True,\n",
    "    filled = True\n",
    "    )"
   ]
  },
  {
   "cell_type": "code",
   "execution_count": 88,
   "id": "f58b9bfc",
   "metadata": {},
   "outputs": [
    {
     "data": {
      "image/svg+xml": [
       "<?xml version=\"1.0\" encoding=\"UTF-8\" standalone=\"no\"?>\n",
       "<!DOCTYPE svg PUBLIC \"-//W3C//DTD SVG 1.1//EN\"\n",
       " \"http://www.w3.org/Graphics/SVG/1.1/DTD/svg11.dtd\">\n",
       "<!-- Generated by graphviz version 8.1.0 (20230707.0739)\n",
       " -->\n",
       "<!-- Title: Tree Pages: 1 -->\n",
       "<svg width=\"360pt\" height=\"335pt\"\n",
       " viewBox=\"0.00 0.00 360.25 335.00\" xmlns=\"http://www.w3.org/2000/svg\" xmlns:xlink=\"http://www.w3.org/1999/xlink\">\n",
       "<g id=\"graph0\" class=\"graph\" transform=\"scale(1 1) rotate(0) translate(4 331)\">\n",
       "<title>Tree</title>\n",
       "<polygon fill=\"white\" stroke=\"none\" points=\"-4,4 -4,-331 356.25,-331 356.25,4 -4,4\"/>\n",
       "<!-- 0 -->\n",
       "<g id=\"node1\" class=\"node\">\n",
       "<title>0</title>\n",
       "<path fill=\"#ffffff\" stroke=\"black\" d=\"M208.75,-327C208.75,-327 73.5,-327 73.5,-327 67.5,-327 61.5,-321 61.5,-315 61.5,-315 61.5,-248.5 61.5,-248.5 61.5,-242.5 67.5,-236.5 73.5,-236.5 73.5,-236.5 208.75,-236.5 208.75,-236.5 214.75,-236.5 220.75,-242.5 220.75,-248.5 220.75,-248.5 220.75,-315 220.75,-315 220.75,-321 214.75,-327 208.75,-327\"/>\n",
       "<text text-anchor=\"middle\" x=\"141.12\" y=\"-309.7\" font-family=\"Helvetica,sans-Serif\" font-size=\"14.00\">petal width (cm) &lt;= 0.8</text>\n",
       "<text text-anchor=\"middle\" x=\"141.12\" y=\"-293.2\" font-family=\"Helvetica,sans-Serif\" font-size=\"14.00\">gini = 0.667</text>\n",
       "<text text-anchor=\"middle\" x=\"141.12\" y=\"-276.7\" font-family=\"Helvetica,sans-Serif\" font-size=\"14.00\">samples = 150</text>\n",
       "<text text-anchor=\"middle\" x=\"141.12\" y=\"-260.2\" font-family=\"Helvetica,sans-Serif\" font-size=\"14.00\">value = [50, 50, 50]</text>\n",
       "<text text-anchor=\"middle\" x=\"141.12\" y=\"-243.7\" font-family=\"Helvetica,sans-Serif\" font-size=\"14.00\">class = setosa</text>\n",
       "</g>\n",
       "<!-- 1 -->\n",
       "<g id=\"node2\" class=\"node\">\n",
       "<title>1</title>\n",
       "<path fill=\"#e58139\" stroke=\"black\" d=\"M108.25,-192.25C108.25,-192.25 12,-192.25 12,-192.25 6,-192.25 0,-186.25 0,-180.25 0,-180.25 0,-130.25 0,-130.25 0,-124.25 6,-118.25 12,-118.25 12,-118.25 108.25,-118.25 108.25,-118.25 114.25,-118.25 120.25,-124.25 120.25,-130.25 120.25,-130.25 120.25,-180.25 120.25,-180.25 120.25,-186.25 114.25,-192.25 108.25,-192.25\"/>\n",
       "<text text-anchor=\"middle\" x=\"60.12\" y=\"-174.95\" font-family=\"Helvetica,sans-Serif\" font-size=\"14.00\">gini = 0.0</text>\n",
       "<text text-anchor=\"middle\" x=\"60.12\" y=\"-158.45\" font-family=\"Helvetica,sans-Serif\" font-size=\"14.00\">samples = 50</text>\n",
       "<text text-anchor=\"middle\" x=\"60.12\" y=\"-141.95\" font-family=\"Helvetica,sans-Serif\" font-size=\"14.00\">value = [50, 0, 0]</text>\n",
       "<text text-anchor=\"middle\" x=\"60.12\" y=\"-125.45\" font-family=\"Helvetica,sans-Serif\" font-size=\"14.00\">class = setosa</text>\n",
       "</g>\n",
       "<!-- 0&#45;&gt;1 -->\n",
       "<g id=\"edge1\" class=\"edge\">\n",
       "<title>0&#45;&gt;1</title>\n",
       "<path fill=\"none\" stroke=\"black\" d=\"M112.11,-236.15C104.73,-224.81 96.8,-212.62 89.41,-201.26\"/>\n",
       "<polygon fill=\"black\" stroke=\"black\" points=\"92,-199.83 83.62,-193.36 86.14,-203.65 92,-199.83\"/>\n",
       "<text text-anchor=\"middle\" x=\"78.44\" y=\"-211.76\" font-family=\"Helvetica,sans-Serif\" font-size=\"14.00\">True</text>\n",
       "</g>\n",
       "<!-- 2 -->\n",
       "<g id=\"node3\" class=\"node\">\n",
       "<title>2</title>\n",
       "<path fill=\"#ffffff\" stroke=\"black\" d=\"M293.88,-200.5C293.88,-200.5 150.38,-200.5 150.38,-200.5 144.38,-200.5 138.38,-194.5 138.38,-188.5 138.38,-188.5 138.38,-122 138.38,-122 138.38,-116 144.38,-110 150.38,-110 150.38,-110 293.88,-110 293.88,-110 299.88,-110 305.88,-116 305.88,-122 305.88,-122 305.88,-188.5 305.88,-188.5 305.88,-194.5 299.88,-200.5 293.88,-200.5\"/>\n",
       "<text text-anchor=\"middle\" x=\"222.12\" y=\"-183.2\" font-family=\"Helvetica,sans-Serif\" font-size=\"14.00\">petal width (cm) &lt;= 1.75</text>\n",
       "<text text-anchor=\"middle\" x=\"222.12\" y=\"-166.7\" font-family=\"Helvetica,sans-Serif\" font-size=\"14.00\">gini = 0.5</text>\n",
       "<text text-anchor=\"middle\" x=\"222.12\" y=\"-150.2\" font-family=\"Helvetica,sans-Serif\" font-size=\"14.00\">samples = 100</text>\n",
       "<text text-anchor=\"middle\" x=\"222.12\" y=\"-133.7\" font-family=\"Helvetica,sans-Serif\" font-size=\"14.00\">value = [0, 50, 50]</text>\n",
       "<text text-anchor=\"middle\" x=\"222.12\" y=\"-117.2\" font-family=\"Helvetica,sans-Serif\" font-size=\"14.00\">class = versicolor</text>\n",
       "</g>\n",
       "<!-- 0&#45;&gt;2 -->\n",
       "<g id=\"edge2\" class=\"edge\">\n",
       "<title>0&#45;&gt;2</title>\n",
       "<path fill=\"none\" stroke=\"black\" d=\"M170.14,-236.15C175.66,-227.66 181.5,-218.69 187.19,-209.95\"/>\n",
       "<polygon fill=\"black\" stroke=\"black\" points=\"190.52,-212.24 193.04,-201.95 184.65,-208.43 190.52,-212.24\"/>\n",
       "<text text-anchor=\"middle\" x=\"198.22\" y=\"-220.36\" font-family=\"Helvetica,sans-Serif\" font-size=\"14.00\">False</text>\n",
       "</g>\n",
       "<!-- 3 -->\n",
       "<g id=\"node4\" class=\"node\">\n",
       "<title>3</title>\n",
       "<path fill=\"#4de88e\" stroke=\"black\" d=\"M202.25,-74C202.25,-74 100,-74 100,-74 94,-74 88,-68 88,-62 88,-62 88,-12 88,-12 88,-6 94,0 100,0 100,0 202.25,0 202.25,0 208.25,0 214.25,-6 214.25,-12 214.25,-12 214.25,-62 214.25,-62 214.25,-68 208.25,-74 202.25,-74\"/>\n",
       "<text text-anchor=\"middle\" x=\"151.12\" y=\"-56.7\" font-family=\"Helvetica,sans-Serif\" font-size=\"14.00\">gini = 0.168</text>\n",
       "<text text-anchor=\"middle\" x=\"151.12\" y=\"-40.2\" font-family=\"Helvetica,sans-Serif\" font-size=\"14.00\">samples = 54</text>\n",
       "<text text-anchor=\"middle\" x=\"151.12\" y=\"-23.7\" font-family=\"Helvetica,sans-Serif\" font-size=\"14.00\">value = [0, 49, 5]</text>\n",
       "<text text-anchor=\"middle\" x=\"151.12\" y=\"-7.2\" font-family=\"Helvetica,sans-Serif\" font-size=\"14.00\">class = versicolor</text>\n",
       "</g>\n",
       "<!-- 2&#45;&gt;3 -->\n",
       "<g id=\"edge3\" class=\"edge\">\n",
       "<title>2&#45;&gt;3</title>\n",
       "<path fill=\"none\" stroke=\"black\" d=\"M194.88,-109.64C189.65,-101.08 184.17,-92.11 178.93,-83.52\"/>\n",
       "<polygon fill=\"black\" stroke=\"black\" points=\"181.55,-82.1 173.35,-75.39 175.58,-85.75 181.55,-82.1\"/>\n",
       "</g>\n",
       "<!-- 4 -->\n",
       "<g id=\"node5\" class=\"node\">\n",
       "<title>4</title>\n",
       "<path fill=\"#843de6\" stroke=\"black\" d=\"M340.25,-74C340.25,-74 244,-74 244,-74 238,-74 232,-68 232,-62 232,-62 232,-12 232,-12 232,-6 238,0 244,0 244,0 340.25,0 340.25,0 346.25,0 352.25,-6 352.25,-12 352.25,-12 352.25,-62 352.25,-62 352.25,-68 346.25,-74 340.25,-74\"/>\n",
       "<text text-anchor=\"middle\" x=\"292.12\" y=\"-56.7\" font-family=\"Helvetica,sans-Serif\" font-size=\"14.00\">gini = 0.043</text>\n",
       "<text text-anchor=\"middle\" x=\"292.12\" y=\"-40.2\" font-family=\"Helvetica,sans-Serif\" font-size=\"14.00\">samples = 46</text>\n",
       "<text text-anchor=\"middle\" x=\"292.12\" y=\"-23.7\" font-family=\"Helvetica,sans-Serif\" font-size=\"14.00\">value = [0, 1, 45]</text>\n",
       "<text text-anchor=\"middle\" x=\"292.12\" y=\"-7.2\" font-family=\"Helvetica,sans-Serif\" font-size=\"14.00\">class = virginica</text>\n",
       "</g>\n",
       "<!-- 2&#45;&gt;4 -->\n",
       "<g id=\"edge4\" class=\"edge\">\n",
       "<title>2&#45;&gt;4</title>\n",
       "<path fill=\"none\" stroke=\"black\" d=\"M248.99,-109.64C254.09,-101.17 259.43,-92.3 264.55,-83.8\"/>\n",
       "<polygon fill=\"black\" stroke=\"black\" points=\"268.05,-85.77 270.21,-75.39 262.05,-82.15 268.05,-85.77\"/>\n",
       "</g>\n",
       "</g>\n",
       "</svg>\n"
      ],
      "text/plain": [
       "<graphviz.sources.Source at 0x191b4447070>"
      ]
     },
     "execution_count": 88,
     "metadata": {},
     "output_type": "execute_result"
    }
   ],
   "source": [
    "# 시각화의 결과를 화면에 출력\n",
    "\n",
    "# Windows 는 아래와 같이 PATH 에 추가해줘야 함\n",
    "os.environ['PATH'] += os.pathsep + 'C:/Program Files/Graphviz/bin'\n",
    "\n",
    "# 파일 읽어오기\n",
    "with open('iris_tree.dot') as f:\n",
    "    dot_graph = f.read()\n",
    "\n",
    "# 읽어온 내용 시각화\n",
    "src = graphviz.Source(dot_graph)\n",
    "src"
   ]
  },
  {
   "cell_type": "code",
   "execution_count": 91,
   "id": "d0b570f0",
   "metadata": {},
   "outputs": [
    {
     "name": "stdout",
     "output_type": "stream",
     "text": [
      "[1] [[0.    0.907 0.093]]\n"
     ]
    }
   ],
   "source": [
    "# 예측\n",
    "y_pred = tree_clf.predict([[3, 1.5]])\n",
    "# 확률 예측\n",
    "y_proba = tree_clf.predict_proba([[3, 1.5]])\n",
    "\n",
    "print(y_pred, y_proba) \n",
    "# [1] [[0. 0.907 0.093]]\n"
   ]
  },
  {
   "cell_type": "code",
   "execution_count": 93,
   "id": "996fa22d",
   "metadata": {},
   "outputs": [
    {
     "name": "stdout",
     "output_type": "stream",
     "text": [
      "[0. 1.]\n"
     ]
    }
   ],
   "source": [
    "# feature 의 중요도\n",
    "print(tree_clf.feature_importances_)"
   ]
  },
  {
   "cell_type": "markdown",
   "id": "a47ab93c",
   "metadata": {},
   "source": [
    "### 타이타닉 데이터를 이용한 생존 여부 분류 - 결정 트리 모델"
   ]
  },
  {
   "cell_type": "code",
   "execution_count": 55,
   "id": "040effa8",
   "metadata": {},
   "outputs": [
    {
     "name": "stdout",
     "output_type": "stream",
     "text": [
      "0    549\n",
      "1    342\n",
      "Name: survived, dtype: int64\n",
      "<class 'pandas.core.frame.DataFrame'>\n",
      "RangeIndex: 891 entries, 0 to 890\n",
      "Data columns (total 15 columns):\n",
      " #   Column       Non-Null Count  Dtype   \n",
      "---  ------       --------------  -----   \n",
      " 0   survived     891 non-null    int64   \n",
      " 1   pclass       891 non-null    int64   \n",
      " 2   sex          891 non-null    object  \n",
      " 3   age          714 non-null    float64 \n",
      " 4   sibsp        891 non-null    int64   \n",
      " 5   parch        891 non-null    int64   \n",
      " 6   fare         891 non-null    float64 \n",
      " 7   embarked     889 non-null    object  \n",
      " 8   class        891 non-null    category\n",
      " 9   who          891 non-null    object  \n",
      " 10  adult_male   891 non-null    bool    \n",
      " 11  deck         203 non-null    category\n",
      " 12  embark_town  889 non-null    object  \n",
      " 13  alive        891 non-null    object  \n",
      " 14  alone        891 non-null    bool    \n",
      "dtypes: bool(2), category(2), float64(2), int64(4), object(5)\n",
      "memory usage: 80.7+ KB\n"
     ]
    }
   ],
   "source": [
    "# 데이터 가져오기\n",
    "\n",
    "DF = sns.load_dataset('titanic')\n",
    "# 데이터 확인\n",
    "print(DF['survived'].value_counts())\n",
    "DF.info()"
   ]
  },
  {
   "cell_type": "code",
   "execution_count": 56,
   "id": "01f49a69",
   "metadata": {},
   "outputs": [
    {
     "name": "stdout",
     "output_type": "stream",
     "text": [
      "<class 'pandas.core.frame.DataFrame'>\n",
      "Int64Index: 714 entries, 0 to 890\n",
      "Data columns (total 13 columns):\n",
      " #   Column      Non-Null Count  Dtype   \n",
      "---  ------      --------------  -----   \n",
      " 0   survived    714 non-null    int64   \n",
      " 1   pclass      714 non-null    int64   \n",
      " 2   sex         714 non-null    object  \n",
      " 3   age         714 non-null    float64 \n",
      " 4   sibsp       714 non-null    int64   \n",
      " 5   parch       714 non-null    int64   \n",
      " 6   fare        714 non-null    float64 \n",
      " 7   embarked    714 non-null    object  \n",
      " 8   class       714 non-null    category\n",
      " 9   who         714 non-null    object  \n",
      " 10  adult_male  714 non-null    bool    \n",
      " 11  alive       714 non-null    object  \n",
      " 12  alone       714 non-null    bool    \n",
      "dtypes: bool(2), category(1), float64(2), int64(4), object(4)\n",
      "memory usage: 63.6+ KB\n"
     ]
    }
   ],
   "source": [
    "# 결측치 처리\n",
    "\n",
    "# deck 열은 결측치가 너무 많아서 열을 제거\n",
    "# embark_town 열은 중복이므로 제거\n",
    "rdf = DF.drop(['deck', 'embark_town'], axis = 1) # 열 제거는 axis=1\n",
    "# age 열은 결측치가 많지 않기 때문에 결측치 데이터를 제거\n",
    "rdf = rdf.dropna(subset = ['age'], axis = 0, how = 'any') # 행 제거는 axis=0\n",
    "# embarked 열은 결측치가 2개라서 최빈값으로 대체 - 범주형이므로 최빈값\n",
    "most_fre = rdf['embarked'].value_counts(dropna = True).idxmax()\n",
    "rdf['embarked'].fillna(most_fre, inplace = True)\n",
    "\n",
    "rdf.info()"
   ]
  },
  {
   "cell_type": "code",
   "execution_count": 4,
   "id": "9bf01125",
   "metadata": {},
   "outputs": [
    {
     "data": {
      "text/html": [
       "<div>\n",
       "<style scoped>\n",
       "    .dataframe tbody tr th:only-of-type {\n",
       "        vertical-align: middle;\n",
       "    }\n",
       "\n",
       "    .dataframe tbody tr th {\n",
       "        vertical-align: top;\n",
       "    }\n",
       "\n",
       "    .dataframe thead th {\n",
       "        text-align: right;\n",
       "    }\n",
       "</style>\n",
       "<table border=\"1\" class=\"dataframe\">\n",
       "  <thead>\n",
       "    <tr style=\"text-align: right;\">\n",
       "      <th></th>\n",
       "      <th>survived</th>\n",
       "      <th>pclass</th>\n",
       "      <th>sex</th>\n",
       "      <th>age</th>\n",
       "      <th>sibsp</th>\n",
       "      <th>parch</th>\n",
       "      <th>fare</th>\n",
       "      <th>embarked</th>\n",
       "      <th>class</th>\n",
       "      <th>who</th>\n",
       "      <th>adult_male</th>\n",
       "      <th>alive</th>\n",
       "      <th>alone</th>\n",
       "    </tr>\n",
       "  </thead>\n",
       "  <tbody>\n",
       "    <tr>\n",
       "      <th>0</th>\n",
       "      <td>0</td>\n",
       "      <td>3</td>\n",
       "      <td>male</td>\n",
       "      <td>22.0</td>\n",
       "      <td>1</td>\n",
       "      <td>0</td>\n",
       "      <td>7.2500</td>\n",
       "      <td>S</td>\n",
       "      <td>Third</td>\n",
       "      <td>man</td>\n",
       "      <td>True</td>\n",
       "      <td>no</td>\n",
       "      <td>False</td>\n",
       "    </tr>\n",
       "    <tr>\n",
       "      <th>1</th>\n",
       "      <td>1</td>\n",
       "      <td>1</td>\n",
       "      <td>female</td>\n",
       "      <td>38.0</td>\n",
       "      <td>1</td>\n",
       "      <td>0</td>\n",
       "      <td>71.2833</td>\n",
       "      <td>C</td>\n",
       "      <td>First</td>\n",
       "      <td>woman</td>\n",
       "      <td>False</td>\n",
       "      <td>yes</td>\n",
       "      <td>False</td>\n",
       "    </tr>\n",
       "    <tr>\n",
       "      <th>2</th>\n",
       "      <td>1</td>\n",
       "      <td>3</td>\n",
       "      <td>female</td>\n",
       "      <td>26.0</td>\n",
       "      <td>0</td>\n",
       "      <td>0</td>\n",
       "      <td>7.9250</td>\n",
       "      <td>S</td>\n",
       "      <td>Third</td>\n",
       "      <td>woman</td>\n",
       "      <td>False</td>\n",
       "      <td>yes</td>\n",
       "      <td>True</td>\n",
       "    </tr>\n",
       "    <tr>\n",
       "      <th>3</th>\n",
       "      <td>1</td>\n",
       "      <td>1</td>\n",
       "      <td>female</td>\n",
       "      <td>35.0</td>\n",
       "      <td>1</td>\n",
       "      <td>0</td>\n",
       "      <td>53.1000</td>\n",
       "      <td>S</td>\n",
       "      <td>First</td>\n",
       "      <td>woman</td>\n",
       "      <td>False</td>\n",
       "      <td>yes</td>\n",
       "      <td>False</td>\n",
       "    </tr>\n",
       "    <tr>\n",
       "      <th>4</th>\n",
       "      <td>0</td>\n",
       "      <td>3</td>\n",
       "      <td>male</td>\n",
       "      <td>35.0</td>\n",
       "      <td>0</td>\n",
       "      <td>0</td>\n",
       "      <td>8.0500</td>\n",
       "      <td>S</td>\n",
       "      <td>Third</td>\n",
       "      <td>man</td>\n",
       "      <td>True</td>\n",
       "      <td>no</td>\n",
       "      <td>True</td>\n",
       "    </tr>\n",
       "  </tbody>\n",
       "</table>\n",
       "</div>"
      ],
      "text/plain": [
       "   survived  pclass     sex   age  sibsp  parch     fare embarked  class  \\\n",
       "0         0       3    male  22.0      1      0   7.2500        S  Third   \n",
       "1         1       1  female  38.0      1      0  71.2833        C  First   \n",
       "2         1       3  female  26.0      0      0   7.9250        S  Third   \n",
       "3         1       1  female  35.0      1      0  53.1000        S  First   \n",
       "4         0       3    male  35.0      0      0   8.0500        S  Third   \n",
       "\n",
       "     who  adult_male alive  alone  \n",
       "0    man        True    no  False  \n",
       "1  woman       False   yes  False  \n",
       "2  woman       False   yes   True  \n",
       "3  woman       False   yes  False  \n",
       "4    man        True    no   True  "
      ]
     },
     "execution_count": 4,
     "metadata": {},
     "output_type": "execute_result"
    }
   ],
   "source": [
    "rdf.head()"
   ]
  },
  {
   "cell_type": "code",
   "execution_count": 57,
   "id": "3f22fd09",
   "metadata": {},
   "outputs": [
    {
     "name": "stdout",
     "output_type": "stream",
     "text": [
      "<class 'pandas.core.frame.DataFrame'>\n",
      "Int64Index: 714 entries, 0 to 890\n",
      "Data columns (total 7 columns):\n",
      " #   Column    Non-Null Count  Dtype  \n",
      "---  ------    --------------  -----  \n",
      " 0   survived  714 non-null    int64  \n",
      " 1   pclass    714 non-null    int64  \n",
      " 2   sex       714 non-null    object \n",
      " 3   age       714 non-null    float64\n",
      " 4   sibsp     714 non-null    int64  \n",
      " 5   parch     714 non-null    int64  \n",
      " 6   embarked  714 non-null    object \n",
      "dtypes: float64(1), int64(4), object(2)\n",
      "memory usage: 44.6+ KB\n"
     ]
    }
   ],
   "source": [
    "# 분석에 사용할 열을 선택\n",
    "\n",
    "ndf = rdf[['survived', 'pclass', 'sex', 'age', 'sibsp', 'parch', 'embarked']]\n",
    "ndf.info()"
   ]
  },
  {
   "cell_type": "code",
   "execution_count": 58,
   "id": "9f73512b",
   "metadata": {},
   "outputs": [
    {
     "data": {
      "text/plain": [
       "array(['male', 'female'], dtype=object)"
      ]
     },
     "execution_count": 58,
     "metadata": {},
     "output_type": "execute_result"
    }
   ],
   "source": [
    "# 범주형 데이터(열)인지 확인\n",
    "# 범주형일 때는 순서 여부를 확인해야 함\n",
    "# 순서가 없을 때는 원핫 인코딩, 있는 경우에는 Oridinal 인코딩을 수행\n",
    "ndf['sex'].unique()\n",
    "# 결과가 male, female 2개 밖에 없으므로 범주형\n"
   ]
  },
  {
   "cell_type": "code",
   "execution_count": 59,
   "id": "76e41fd2",
   "metadata": {},
   "outputs": [
    {
     "name": "stdout",
     "output_type": "stream",
     "text": [
      "     female  male\n",
      "0         0     1\n",
      "1         1     0\n",
      "2         1     0\n",
      "3         1     0\n",
      "4         0     1\n",
      "..      ...   ...\n",
      "885       1     0\n",
      "886       0     1\n",
      "887       1     0\n",
      "889       0     1\n",
      "890       0     1\n",
      "\n",
      "[714 rows x 2 columns]\n",
      "   survived  pclass     sex   age  sibsp  parch embarked  female  male\n",
      "0         0       3    male  22.0      1      0        S       0     1\n",
      "1         1       1  female  38.0      1      0        C       1     0\n",
      "2         1       3  female  26.0      0      0        S       1     0\n",
      "3         1       1  female  35.0      1      0        S       1     0\n",
      "4         0       3    male  35.0      0      0        S       0     1\n"
     ]
    }
   ],
   "source": [
    "# 순서가 없는 범주형이므로 one hot 인코딩을 적용\n",
    "onehot_sex = pd.get_dummies(ndf['sex'])\n",
    "print(onehot_sex)\n",
    "\n",
    "# 원핫 인코딩 결과를 원본 데이터에 추가\n",
    "ndf = pd.concat([ndf, onehot_sex], axis = 1)\n",
    "print(ndf.head())"
   ]
  },
  {
   "cell_type": "code",
   "execution_count": 60,
   "id": "f3e3504f",
   "metadata": {},
   "outputs": [
    {
     "name": "stdout",
     "output_type": "stream",
     "text": [
      "     town_C  town_Q  town_S\n",
      "0         0       0       1\n",
      "1         1       0       0\n",
      "2         0       0       1\n",
      "3         0       0       1\n",
      "4         0       0       1\n",
      "..      ...     ...     ...\n",
      "885       0       1       0\n",
      "886       0       0       1\n",
      "887       0       0       1\n",
      "889       1       0       0\n",
      "890       0       1       0\n",
      "\n",
      "[714 rows x 3 columns]\n"
     ]
    }
   ],
   "source": [
    "# embarked 데이터도 범주형\n",
    "ndf['embarked'].unique()\n",
    "\n",
    "# 순서가 없는 범주형이므로 one hot 인코딩을 적용\n",
    "# 1글자인 데이터이므로 혼동을 막고 구분해주기 위해 \n",
    "# 앞에 prefix 를 추가 - town_C 형태\n",
    "onehot_embarked = pd.get_dummies(ndf['embarked'], prefix = 'town')\n",
    "print(onehot_embarked)\n",
    "\n",
    "# 원핫 인코딩 결과를 원본 데이터에 추가\n",
    "ndf = pd.concat([ndf, onehot_embarked], axis = 1)\n",
    "#print(ndf.head())"
   ]
  },
  {
   "cell_type": "code",
   "execution_count": 61,
   "id": "6120c5ed",
   "metadata": {},
   "outputs": [
    {
     "name": "stdout",
     "output_type": "stream",
     "text": [
      "   survived  pclass   age  sibsp  parch  female  male  town_C  town_Q  town_S\n",
      "0         0       3  22.0      1      0       0     1       0       0       1\n",
      "1         1       1  38.0      1      0       1     0       1       0       0\n",
      "2         1       3  26.0      0      0       1     0       0       0       1\n",
      "3         1       1  35.0      1      0       1     0       0       0       1\n",
      "4         0       3  35.0      0      0       0     1       0       0       1\n"
     ]
    }
   ],
   "source": [
    "# 원핫 인코딩 처리를 한 컬럼은 데이터에서 제거\n",
    "ndf.drop(['sex', 'embarked'], axis = 1, inplace = True)\n",
    "print(ndf.head())"
   ]
  },
  {
   "cell_type": "code",
   "execution_count": 62,
   "id": "867b15fc",
   "metadata": {},
   "outputs": [
    {
     "name": "stdout",
     "output_type": "stream",
     "text": [
      "   pclass   age  sibsp  parch  female  male  town_C  town_Q  town_S\n",
      "0       3  22.0      1      0       0     1       0       0       1\n",
      "1       1  38.0      1      0       1     0       1       0       0\n",
      "2       3  26.0      0      0       1     0       0       0       1\n",
      "3       1  35.0      1      0       1     0       0       0       1\n",
      "4       3  35.0      0      0       0     1       0       0       1\n",
      "0    0\n",
      "1    1\n",
      "2    1\n",
      "3    1\n",
      "4    0\n",
      "Name: survived, dtype: int64\n"
     ]
    }
   ],
   "source": [
    "# feature 와 target 생성\n",
    "\n",
    "# feature 는 survived 를 제외한 나머지\n",
    "X = ndf[['pclass', 'age', 'sibsp', 'parch', 'female', \n",
    "         'male', 'town_C', 'town_Q', 'town_S']]\n",
    "# target\n",
    "y = ndf['survived']\n",
    "\n",
    "# 0이나 1처럼 작은 값들로 나타나는 나머지와 다르게\n",
    "# age 컬럼은 22, 38과 같이 오차가 크게 나타남 - 정규화 필요\n",
    "print(X.head())\n",
    "print(y.head())"
   ]
  },
  {
   "cell_type": "code",
   "execution_count": 63,
   "id": "f590fd21",
   "metadata": {},
   "outputs": [
    {
     "name": "stdout",
     "output_type": "stream",
     "text": [
      "[[ 0.911 -0.53   0.525 ... -0.472 -0.202  0.533]\n",
      " [-1.476  0.572  0.525 ...  2.12  -0.202 -1.876]\n",
      " [ 0.911 -0.255 -0.552 ... -0.472 -0.202  0.533]\n",
      " ...\n",
      " [-1.476 -0.737 -0.552 ... -0.472 -0.202  0.533]\n",
      " [-1.476 -0.255 -0.552 ...  2.12  -0.202 -1.876]\n",
      " [ 0.911  0.159 -0.552 ... -0.472  4.95  -1.876]]\n"
     ]
    }
   ],
   "source": [
    "# feature 에 정규화를 수행\n",
    "\n",
    "from sklearn import preprocessing\n",
    "\n",
    "# age 와 같이 feature 값의 범위나 분포가 차이가 많이 나는 경우 수행\n",
    "X = preprocessing.StandardScaler().fit(X).transform(X)\n",
    "print(X)"
   ]
  },
  {
   "cell_type": "code",
   "execution_count": 64,
   "id": "9ee3423e",
   "metadata": {},
   "outputs": [],
   "source": [
    "# 훈련 데이터와 테스트 데이터를 분리\n",
    "\n",
    "from sklearn.model_selection import train_test_split\n",
    "\n",
    "# 데이터 분리\n",
    "X_train, X_test, y_train, y_test = train_test_split(X, y,\n",
    "                                                   test_size = 0.3,\n",
    "                                                   random_state = 21)\n",
    "\n",
    "#print(X_train.shape)\n",
    "#print(X_test.shape)"
   ]
  },
  {
   "cell_type": "code",
   "execution_count": 65,
   "id": "7f73ec70",
   "metadata": {},
   "outputs": [
    {
     "data": {
      "text/html": [
       "<style>#sk-container-id-5 {color: black;background-color: white;}#sk-container-id-5 pre{padding: 0;}#sk-container-id-5 div.sk-toggleable {background-color: white;}#sk-container-id-5 label.sk-toggleable__label {cursor: pointer;display: block;width: 100%;margin-bottom: 0;padding: 0.3em;box-sizing: border-box;text-align: center;}#sk-container-id-5 label.sk-toggleable__label-arrow:before {content: \"▸\";float: left;margin-right: 0.25em;color: #696969;}#sk-container-id-5 label.sk-toggleable__label-arrow:hover:before {color: black;}#sk-container-id-5 div.sk-estimator:hover label.sk-toggleable__label-arrow:before {color: black;}#sk-container-id-5 div.sk-toggleable__content {max-height: 0;max-width: 0;overflow: hidden;text-align: left;background-color: #f0f8ff;}#sk-container-id-5 div.sk-toggleable__content pre {margin: 0.2em;color: black;border-radius: 0.25em;background-color: #f0f8ff;}#sk-container-id-5 input.sk-toggleable__control:checked~div.sk-toggleable__content {max-height: 200px;max-width: 100%;overflow: auto;}#sk-container-id-5 input.sk-toggleable__control:checked~label.sk-toggleable__label-arrow:before {content: \"▾\";}#sk-container-id-5 div.sk-estimator input.sk-toggleable__control:checked~label.sk-toggleable__label {background-color: #d4ebff;}#sk-container-id-5 div.sk-label input.sk-toggleable__control:checked~label.sk-toggleable__label {background-color: #d4ebff;}#sk-container-id-5 input.sk-hidden--visually {border: 0;clip: rect(1px 1px 1px 1px);clip: rect(1px, 1px, 1px, 1px);height: 1px;margin: -1px;overflow: hidden;padding: 0;position: absolute;width: 1px;}#sk-container-id-5 div.sk-estimator {font-family: monospace;background-color: #f0f8ff;border: 1px dotted black;border-radius: 0.25em;box-sizing: border-box;margin-bottom: 0.5em;}#sk-container-id-5 div.sk-estimator:hover {background-color: #d4ebff;}#sk-container-id-5 div.sk-parallel-item::after {content: \"\";width: 100%;border-bottom: 1px solid gray;flex-grow: 1;}#sk-container-id-5 div.sk-label:hover label.sk-toggleable__label {background-color: #d4ebff;}#sk-container-id-5 div.sk-serial::before {content: \"\";position: absolute;border-left: 1px solid gray;box-sizing: border-box;top: 0;bottom: 0;left: 50%;z-index: 0;}#sk-container-id-5 div.sk-serial {display: flex;flex-direction: column;align-items: center;background-color: white;padding-right: 0.2em;padding-left: 0.2em;position: relative;}#sk-container-id-5 div.sk-item {position: relative;z-index: 1;}#sk-container-id-5 div.sk-parallel {display: flex;align-items: stretch;justify-content: center;background-color: white;position: relative;}#sk-container-id-5 div.sk-item::before, #sk-container-id-5 div.sk-parallel-item::before {content: \"\";position: absolute;border-left: 1px solid gray;box-sizing: border-box;top: 0;bottom: 0;left: 50%;z-index: -1;}#sk-container-id-5 div.sk-parallel-item {display: flex;flex-direction: column;z-index: 1;position: relative;background-color: white;}#sk-container-id-5 div.sk-parallel-item:first-child::after {align-self: flex-end;width: 50%;}#sk-container-id-5 div.sk-parallel-item:last-child::after {align-self: flex-start;width: 50%;}#sk-container-id-5 div.sk-parallel-item:only-child::after {width: 0;}#sk-container-id-5 div.sk-dashed-wrapped {border: 1px dashed gray;margin: 0 0.4em 0.5em 0.4em;box-sizing: border-box;padding-bottom: 0.4em;background-color: white;}#sk-container-id-5 div.sk-label label {font-family: monospace;font-weight: bold;display: inline-block;line-height: 1.2em;}#sk-container-id-5 div.sk-label-container {text-align: center;}#sk-container-id-5 div.sk-container {/* jupyter's `normalize.less` sets `[hidden] { display: none; }` but bootstrap.min.css set `[hidden] { display: none !important; }` so we also need the `!important` here to be able to override the default hidden behavior on the sphinx rendered scikit-learn.org. See: https://github.com/scikit-learn/scikit-learn/issues/21755 */display: inline-block !important;position: relative;}#sk-container-id-5 div.sk-text-repr-fallback {display: none;}</style><div id=\"sk-container-id-5\" class=\"sk-top-container\"><div class=\"sk-text-repr-fallback\"><pre>DecisionTreeClassifier(criterion=&#x27;entropy&#x27;, max_depth=5, random_state=21)</pre><b>In a Jupyter environment, please rerun this cell to show the HTML representation or trust the notebook. <br />On GitHub, the HTML representation is unable to render, please try loading this page with nbviewer.org.</b></div><div class=\"sk-container\" hidden><div class=\"sk-item\"><div class=\"sk-estimator sk-toggleable\"><input class=\"sk-toggleable__control sk-hidden--visually\" id=\"sk-estimator-id-5\" type=\"checkbox\" checked><label for=\"sk-estimator-id-5\" class=\"sk-toggleable__label sk-toggleable__label-arrow\">DecisionTreeClassifier</label><div class=\"sk-toggleable__content\"><pre>DecisionTreeClassifier(criterion=&#x27;entropy&#x27;, max_depth=5, random_state=21)</pre></div></div></div></div></div>"
      ],
      "text/plain": [
       "DecisionTreeClassifier(criterion='entropy', max_depth=5, random_state=21)"
      ]
     },
     "execution_count": 65,
     "metadata": {},
     "output_type": "execute_result"
    }
   ],
   "source": [
    "# 분류에 사용할 모델을 선택해서 훈련\n",
    "\n",
    "# decision tree 모델 사용\n",
    "from sklearn import tree\n",
    "\n",
    "# 불순도(분류) 기준으로 entropy 사용\n",
    "tree_model = tree.DecisionTreeClassifier(criterion = 'entropy',\n",
    "                                         max_depth = 5, random_state = 21)\n",
    "# 훈련 데이터를 가지고 훈련\n",
    "tree_model.fit(X_train, y_train)\n"
   ]
  },
  {
   "cell_type": "code",
   "execution_count": 66,
   "id": "ed52c3ce",
   "metadata": {},
   "outputs": [
    {
     "name": "stdout",
     "output_type": "stream",
     "text": [
      "[0 0 0 1 0 0 0 0 0 1 0 0 0 1 1 0 1 1 1 0 0 0 0 1 1 0 0 0 0 1 0 1 0 1 1 0 0\n",
      " 0 0 1 0 1 0 1 1 1 0 1 0 1 0 0 0 0 0 0 1 0 1 1 1 1 1 0 0 0 0 0 0 0 0 1 0 1\n",
      " 0 1 0 0 1 0 0 0 1 1 0 0 0 0 1 0 0 0 1 1 0 0 0 0 1 0 0 0 0 1 1 0 0 1 1 1 1\n",
      " 0 1 0 0 0 1 0 0 1 1 1 0 0 0 0 1 1 0 1 0 1 1 1 0 1 0 0 0 0 0 0 0 0 0 0 1 0\n",
      " 1 1 0 0 0 1 1 0 0 0 0 0 1 0 0 0 1 0 0 0 0 0 1 0 0 0 1 0 0 0 1 0 1 1 0 0 1\n",
      " 0 0 1 1 0 0 0 0 0 0 0 0 0 0 1 0 0 0 0 1 0 0 0 1 0 0 1 0 0 0]\n"
     ]
    }
   ],
   "source": [
    "# 테스트 데이터를 가지고 예측\n",
    "y_pred = tree_model.predict(X_test)\n",
    "print(y_pred)"
   ]
  },
  {
   "cell_type": "code",
   "execution_count": 67,
   "id": "02b98d8f",
   "metadata": {},
   "outputs": [
    {
     "name": "stdout",
     "output_type": "stream",
     "text": [
      "[0 0 0 1 0 0 0 0 0 1 0 0 0 1 1]\n",
      "[0 0 0 1 0 0 1 0 0 1 0 0 0 1 0]\n"
     ]
    }
   ],
   "source": [
    "# 예측 결과와 실제 데이터 비교\n",
    "print(y_pred[:15])\n",
    "print(y_test.values[:15])"
   ]
  },
  {
   "cell_type": "code",
   "execution_count": 68,
   "id": "04587e91",
   "metadata": {},
   "outputs": [
    {
     "name": "stdout",
     "output_type": "stream",
     "text": [
      "[[117  19]\n",
      " [ 25  54]]\n",
      "              precision    recall  f1-score   support\n",
      "\n",
      "           0       0.82      0.86      0.84       136\n",
      "           1       0.74      0.68      0.71        79\n",
      "\n",
      "    accuracy                           0.80       215\n",
      "   macro avg       0.78      0.77      0.78       215\n",
      "weighted avg       0.79      0.80      0.79       215\n",
      "\n"
     ]
    }
   ],
   "source": [
    "# 평가 지표 확인하기\n",
    "from sklearn import metrics\n",
    "\n",
    "# 오차 행렬 출력\n",
    "tree_matrix = metrics.confusion_matrix(y_test, y_pred)\n",
    "print(tree_matrix)\n",
    "\n",
    "# 나머지 평가 지표 - precision, recall, f1 score\n",
    "tree_report = metrics.classification_report(y_test, y_pred)\n",
    "print(tree_report)"
   ]
  },
  {
   "cell_type": "code",
   "execution_count": 69,
   "id": "76d7e3b7",
   "metadata": {},
   "outputs": [
    {
     "name": "stdout",
     "output_type": "stream",
     "text": [
      "9\n",
      "[0 1 2 3 4 5 6 7 8]\n",
      "[0.267 0.213 0.105 0.    0.    0.409 0.007 0.    0.   ]\n"
     ]
    },
    {
     "data": {
      "image/png": "[encoded data removed]",
      "text/plain": [
       "<Figure size 640x480 with 1 Axes>"
      ]
     },
     "metadata": {},
     "output_type": "display_data"
    }
   ],
   "source": [
    "# feature의 중요도 확인\n",
    "\n",
    "n_features = X.data.shape[1]\n",
    "print(n_features) # 9\n",
    "print(np.arange(n_features)) # feature가 몇개인지 확인\n",
    "print(tree_model.feature_importances_) # 중요도 출력\n",
    "\n",
    "plt.barh(np.arange(n_features), tree_model.feature_importances_, align = 'center')\n",
    "plt.yticks(np.arange(n_features),\n",
    "          ['pclass', 'age', 'sibsp', 'parch', 'female', 'male',\n",
    "          'town_C', 'town_Q', 'town_S'])\n",
    "plt.xlabel('feature 중요도', fontsize = 16)\n",
    "plt.ylabel('feature', fontsize = 16)\n",
    "plt.ylim(-1, n_features)\n",
    "\n",
    "plt.show()"
   ]
  },
  {
   "cell_type": "code",
   "execution_count": 70,
   "id": "c07c81dd",
   "metadata": {},
   "outputs": [
    {
     "name": "stdout",
     "output_type": "stream",
     "text": [
      "Fitting 3 folds for each of 6 candidates, totalling 18 fits\n",
      "최고 정확도 :  0.8056657768799749\n",
      "최적 파라미터 :  {'max_depth': 4}\n"
     ]
    }
   ],
   "source": [
    "# grid search 방식 적용\n",
    "from sklearn.model_selection import GridSearchCV\n",
    "\n",
    "# 시도해 볼 파라미터 설정\n",
    "params = {\n",
    "    'max_depth' : [2, 4, 5, 6, 8, 10]\n",
    "}\n",
    "\n",
    "# grid search 방식을 수행해서 여러 파라미터에 대해 3번 적용\n",
    "# 판단 기준은 accuracy(정확성)\n",
    "grid_cv = GridSearchCV(tree_model, param_grid = params, \n",
    "                       scoring = 'accuracy', cv = 3, verbose = 1)\n",
    "# 훈련\n",
    "grid_cv.fit(X_train, y_train)\n",
    "\n",
    "# 결과 출력\n",
    "print('최고 정확도 : ', grid_cv.best_score_) # 0.805\n",
    "print('최적 파라미터 : ', grid_cv.best_params_) # max_depth : 4"
   ]
  },
  {
   "cell_type": "code",
   "execution_count": null,
   "id": "07cc5dfe",
   "metadata": {},
   "outputs": [],
   "source": []
  },
  {
   "cell_type": "code",
   "execution_count": null,
   "id": "b3920c5e",
   "metadata": {},
   "outputs": [],
   "source": []
  },
  {
   "cell_type": "code",
   "execution_count": null,
   "id": "cdeaa28d",
   "metadata": {},
   "outputs": [],
   "source": []
  },
  {
   "cell_type": "code",
   "execution_count": null,
   "id": "34febbcb",
   "metadata": {},
   "outputs": [],
   "source": []
  },
  {
   "cell_type": "code",
   "execution_count": null,
   "id": "b1242220",
   "metadata": {},
   "outputs": [],
   "source": []
  }
 ],
 "metadata": {
  "kernelspec": {
   "display_name": "Python 3 (ipykernel)",
   "language": "python",
   "name": "python3"
  },
  "language_info": {
   "codemirror_mode": {
    "name": "ipython",
    "version": 3
   },
   "file_extension": ".py",
   "mimetype": "text/x-python",
   "name": "python",
   "nbconvert_exporter": "python",
   "pygments_lexer": "ipython3",
   "version": "3.10.9"
  }
 },
 "nbformat": 4,
 "nbformat_minor": 5
}
